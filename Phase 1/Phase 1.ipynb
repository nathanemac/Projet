{
 "cells": [
  {
   "cell_type": "markdown",
   "metadata": {},
   "source": [
    "## MTH6412B - Projet Phase 1\n",
    "#### Victor Darleguy - Nathan Allaire"
   ]
  },
  {
   "cell_type": "markdown",
   "metadata": {},
   "source": [
    "### Question 1)"
   ]
  },
  {
   "cell_type": "code",
   "execution_count": 1,
   "metadata": {},
   "outputs": [
    {
     "data": {
      "text/plain": [
       "plot_graph"
      ]
     },
     "metadata": {},
     "output_type": "display_data"
    }
   ],
   "source": [
    "include(\"node.jl\")\n",
    "include(\"graph.jl\")\n",
    "include(\"read_stsp.jl\") "
   ]
  },
  {
   "cell_type": "markdown",
   "metadata": {},
   "source": [
    "### Question 2)"
   ]
  },
  {
   "cell_type": "markdown",
   "metadata": {},
   "source": [
    "Création du type `Edge` :"
   ]
  },
  {
   "cell_type": "code",
   "execution_count": 9,
   "metadata": {},
   "outputs": [
    {
     "data": {
      "text/plain": [
       "Base.show"
      ]
     },
     "metadata": {},
     "output_type": "display_data"
    }
   ],
   "source": [
    "\"\"\"\n",
    "Type abstrait dont d'autres types d'arêtes dériveront.\n",
    "\"\"\"\n",
    "abstract type AbstractEdge{T, U} end\n",
    "\n",
    "\"\"\"\n",
    "Type représentant les arêtes d'un graphe.\n",
    "\n",
    "Exemple:\n",
    "\n",
    "    node1 = Node(\"Joe\", 3.14)\n",
    "    node2 = Node(\"Steve\", exp(1))\n",
    "    edge = Edge(node1, node2)       # Arête non pondérée\n",
    "    edge = Edge(node1, node2, 5.6)  # Arête pondérée avec un poids de 5.6\n",
    "\"\"\"\n",
    "mutable struct Edge{T, U} <: AbstractEdge{T, U}\n",
    "  start_node::Node{T}\n",
    "  end_node::Node{T}\n",
    "  weight::U\n",
    "end\n",
    "\n",
    "# Constructeur pour les arêtes non pondérées\n",
    "Edge(s::Node{T}, e::Node{T}) where T = Edge(s, e, nothing)\n",
    "\n",
    "# on présume que toutes les arêtes dérivant d'AbstractEdge\n",
    "# posséderont des champs `start_node`, `end_node` et `weight`.\n",
    "\n",
    "\"\"\"Renvoie le noeud de départ de l'arête.\"\"\"\n",
    "start_node(edge::AbstractEdge) = edge.start_node\n",
    "\n",
    "\"\"\"Renvoie le noeud d'arrivée de l'arête.\"\"\"\n",
    "end_node(edge::AbstractEdge) = edge.end_node\n",
    "\n",
    "\"\"\"Renvoie le poids de l'arête.\"\"\"\n",
    "weight(edge::AbstractEdge) = edge.weight\n",
    "\n",
    "\"\"\"Affiche une arête.\"\"\"\n",
    "function show(edge::AbstractEdge)\n",
    "    if edge.weight === nothing\n",
    "        println(\"Edge from \", name(start_node(edge)), \" to \", name(end_node(edge)))\n",
    "    else\n",
    "        println(\"Edge from \", name(start_node(edge)), \" to \", name(end_node(edge)), \", weight: \", weight(edge))\n",
    "    end\n",
    "end  "
   ]
  },
  {
   "cell_type": "markdown",
   "metadata": {},
   "source": [
    "Exemple d'utilisation du type `Edge`:"
   ]
  },
  {
   "cell_type": "code",
   "execution_count": 10,
   "metadata": {},
   "outputs": [
    {
     "data": {
      "text/plain": [
       "Edge{Float64, Nothing}(Node{Float64}(\"a\", 1.0), Node{Float64}(\"b\", 2.4), nothing)"
      ]
     },
     "metadata": {},
     "output_type": "display_data"
    }
   ],
   "source": [
    "edge_test = Edge(Node(\"a\", 1.0), Node(\"b\", 2.4))"
   ]
  },
  {
   "cell_type": "code",
   "execution_count": 11,
   "metadata": {},
   "outputs": [
    {
     "name": "stdout",
     "output_type": "stream",
     "text": [
      "Edge from a to b\n"
     ]
    }
   ],
   "source": [
    "show(edge_test)"
   ]
  },
  {
   "cell_type": "markdown",
   "metadata": {},
   "source": [
    "### Question 3)"
   ]
  },
  {
   "cell_type": "markdown",
   "metadata": {},
   "source": [
    "Extension du type `Graph`"
   ]
  },
  {
   "cell_type": "code",
   "execution_count": 12,
   "metadata": {},
   "outputs": [
    {
     "data": {
      "text/plain": [
       "show (generic function with 385 methods)"
      ]
     },
     "metadata": {},
     "output_type": "display_data"
    }
   ],
   "source": [
    "# Définir un nouveau type `ExtendedGraph`\n",
    "mutable struct ExtendedGraph{T, U} <: AbstractGraph{T}\n",
    "  name::String\n",
    "  nodes::Vector{Node{T}}\n",
    "  edges::Vector{Edge{T, U}}\n",
    "end\n",
    "\n",
    "# Constructeur pour ExtendedGraph\n",
    "ExtendedGraph(name::String, nodes::Vector{Node{T}}) where T = ExtendedGraph(name, nodes, Edge{T, U}[])\n",
    "\n",
    "# Fonction pour ajouter une arête à ExtendedGraph\n",
    "function add_edge!(graph::ExtendedGraph{T, U}, start_node::Node{T}, end_node::Node{T}, weight::U = nothing) where {T, U}\n",
    "  # Vérifier si les nœuds existent déjà dans le graphe\n",
    "  if start_node ∉ graph.nodes || end_node ∉ graph.nodes\n",
    "      throw(ArgumentError(\"One or both nodes are not part of the graph\"))\n",
    "  end\n",
    "\n",
    "  # Créer la nouvelle arête\n",
    "  new_edge = Edge(start_node, end_node, weight)\n",
    "  \n",
    "  # Vérifier si l'arête existe déjà\n",
    "  for edge in graph.edges\n",
    "      if (edge.start_node == start_node && edge.end_node == end_node) || \n",
    "         (edge.start_node == end_node && edge.end_node == start_node)\n",
    "          throw(ArgumentError(\"The edge already exists in the graph\"))\n",
    "      end\n",
    "  end\n",
    "\n",
    "  # Ajouter la nouvelle arête au graphe\n",
    "  push!(graph.edges, new_edge)\n",
    "end\n",
    "\n",
    "# Affichage de ExtendedGraph\n",
    "function show(graph::ExtendedGraph{T, U}) where {T, U}\n",
    "  println(\"Graph \", name(graph), \" has \", nb_nodes(graph), \" nodes and \", length(graph.edges), \" edges.\")\n",
    "  println(\"Nodes:\")\n",
    "  for node in nodes(graph)\n",
    "      show(node)\n",
    "  end\n",
    "  println(\"Edges:\")\n",
    "  for edge in graph.edges\n",
    "      show(edge)\n",
    "  end\n",
    "end\n"
   ]
  },
  {
   "cell_type": "code",
   "execution_count": 13,
   "metadata": {},
   "outputs": [],
   "source": []
  },
  {
   "cell_type": "code",
   "execution_count": 14,
   "metadata": {},
   "outputs": [],
   "source": []
  },
  {
   "cell_type": "code",
   "execution_count": null,
   "metadata": {},
   "outputs": [],
   "source": []
  }
 ],
 "metadata": {
  "kernelspec": {
   "display_name": "Julia 1.9.3",
   "language": "julia",
   "name": "julia-1.9"
  },
  "language_info": {
   "file_extension": ".jl",
   "mimetype": "application/julia",
   "name": "julia",
   "version": "1.9.3"
  },
  "orig_nbformat": 4
 },
 "nbformat": 4,
 "nbformat_minor": 2
}
