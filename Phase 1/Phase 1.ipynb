{
 "cells": [
  {
   "cell_type": "markdown",
   "metadata": {},
   "source": [
    "## MTH6412B - Projet Phase 1\n",
    "#### Victor Darleguy - Nathan Allaire"
   ]
  },
  {
   "cell_type": "markdown",
   "metadata": {},
   "source": [
    "### Question 1)"
   ]
  },
  {
   "cell_type": "code",
   "execution_count": 1,
   "metadata": {},
   "outputs": [
    {
     "data": {
      "text/plain": [
       "plot_graph"
      ]
     },
     "metadata": {},
     "output_type": "display_data"
    }
   ],
   "source": [
    "include(\"node.jl\")\n",
    "include(\"graph.jl\")\n",
    "include(\"read_stsp.jl\")"
   ]
  },
  {
   "cell_type": "markdown",
   "metadata": {},
   "source": [
    "### Question 2)"
   ]
  },
  {
   "cell_type": "markdown",
   "metadata": {},
   "source": [
    "Création du type `Edge` :"
   ]
  },
  {
   "cell_type": "code",
   "execution_count": 2,
   "metadata": {},
   "outputs": [
    {
     "data": {
      "text/plain": [
       "Base.show"
      ]
     },
     "metadata": {},
     "output_type": "display_data"
    }
   ],
   "source": [
    "\"\"\"\n",
    "Type abstrait dont d'autres types d'arêtes dériveront.\n",
    "\"\"\"\n",
    "abstract type AbstractEdge{T, U} end\n",
    "\n",
    "\"\"\"\n",
    "Type représentant les arêtes d'un graphe.\n",
    "\n",
    "Exemple:\n",
    "\n",
    "    node1 = Node(\"Joe\", 3.14)\n",
    "    node2 = Node(\"Steve\", exp(1))\n",
    "    edge = Edge(node1, node2)       # Arête non pondérée\n",
    "    edge = Edge(node1, node2, 5.6)  # Arête pondérée avec un poids de 5.6\n",
    "\"\"\"\n",
    "mutable struct Edge{T, U} <: AbstractEdge{T, U}\n",
    "  start_node::Node{T}\n",
    "  end_node::Node{T}\n",
    "  weight::U\n",
    "end\n",
    "\n",
    "# Constructeur pour les arêtes non pondérées\n",
    "Edge(s::Node{T}, e::Node{T}) where T = Edge(s, e, nothing)\n",
    "\n",
    "# on présume que toutes les arêtes dérivant d'AbstractEdge\n",
    "# posséderont des champs `start_node`, `end_node` et `weight`.\n",
    "\n",
    "\"\"\"Renvoie le noeud de départ de l'arête.\"\"\"\n",
    "start_node(edge::AbstractEdge) = edge.start_node\n",
    "\n",
    "\"\"\"Renvoie le noeud d'arrivée de l'arête.\"\"\"\n",
    "end_node(edge::AbstractEdge) = edge.end_node\n",
    "\n",
    "\"\"\"Renvoie le poids de l'arête.\"\"\"\n",
    "weight(edge::AbstractEdge) = edge.weight\n",
    "\n",
    "\"\"\"Affiche une arête.\"\"\"\n",
    "function show(edge::AbstractEdge)\n",
    "    if edge.weight === nothing\n",
    "        println(\"Edge from \", name(start_node(edge)), \" to \", name(end_node(edge)))\n",
    "    else\n",
    "        println(\"Edge from \", name(start_node(edge)), \" to \", name(end_node(edge)), \", weight: \", weight(edge))\n",
    "    end\n",
    "end  "
   ]
  },
  {
   "cell_type": "markdown",
   "metadata": {},
   "source": [
    "Exemple d'utilisation du type `Edge`:"
   ]
  },
  {
   "cell_type": "code",
   "execution_count": 3,
   "metadata": {},
   "outputs": [
    {
     "data": {
      "text/plain": [
       "Edge{Float64, Nothing}(Node{Float64}(\"a\", 1.0), Node{Float64}(\"b\", 2.4), nothing)"
      ]
     },
     "metadata": {},
     "output_type": "display_data"
    }
   ],
   "source": [
    "edge_test = Edge(Node(\"a\", 1.0), Node(\"b\", 2.4))"
   ]
  },
  {
   "cell_type": "code",
   "execution_count": 4,
   "metadata": {},
   "outputs": [
    {
     "name": "stdout",
     "output_type": "stream",
     "text": [
      "Edge from a to b\n"
     ]
    }
   ],
   "source": [
    "show(edge_test)"
   ]
  },
  {
   "cell_type": "markdown",
   "metadata": {},
   "source": [
    "### Question 3)"
   ]
  },
  {
   "cell_type": "markdown",
   "metadata": {},
   "source": [
    "Extension du type `Graph` pour contenir les arêtes du graphe"
   ]
  },
  {
   "cell_type": "code",
   "execution_count": 55,
   "metadata": {},
   "outputs": [
    {
     "data": {
      "text/plain": [
       "add_edge! (generic function with 2 methods)"
      ]
     },
     "metadata": {},
     "output_type": "display_data"
    }
   ],
   "source": [
    "# Définir un nouveau type `ExtendedGraph`\n",
    "mutable struct ExtendedGraph{T} <: AbstractGraph{T}\n",
    "  name::String\n",
    "  nodes::Vector{Node{T}}\n",
    "  edges::Vector{Edge{T}}\n",
    "end\n",
    "\n",
    "# Constructeur pour ExtendedGraph\n",
    "ExtendedGraph(name::String, nodes::Vector{Node{T}}) where T = ExtendedGraph(name, nodes, Edge{T}[])\n",
    "\n",
    "# Fonction pour ajouter un noeud à un AbstractGraph : \n",
    "\"\"\"Ajoute un noeud à un ExtendedGraph\"\"\"\n",
    "function add_node!(graph::AbstractGraph{T}, node::Node{T}) where T\n",
    "  push!(graph.nodes, node)\n",
    "  graph\n",
    "end\n",
    "\n",
    "# Fonction pour ajouter une arête à ExtendedGraph\n",
    "\"\"\"Ajoute une arête à un ExtendedGraph\"\"\"\n",
    "function add_edge!(graph::ExtendedGraph{T}, start_node::Node{T}, end_node::Node{T}, weight = nothing) where {T}\n",
    "  # Vérifier si les nœuds existent déjà dans le graphe\n",
    "  if start_node ∉ graph.nodes || end_node ∉ graph.nodes\n",
    "      throw(ArgumentError(\"One or both nodes are not part of the graph\"))\n",
    "  end\n",
    "\n",
    "  # Créer la nouvelle arête\n",
    "  new_edge = Edge(start_node, end_node, weight)\n",
    "  \n",
    "  # Vérifier si l'arête existe déjà\n",
    "  for edge in graph.edges\n",
    "      if (edge.start_node == start_node && edge.end_node == end_node) || \n",
    "         (edge.start_node == end_node && edge.end_node == start_node)\n",
    "         return  # simplement retourner si l'arête existe déjà, évitant une erreur\n",
    "\n",
    "      end\n",
    "  end\n",
    "\n",
    "  # Ajouter la nouvelle arête au graphe\n",
    "  push!(graph.edges, new_edge)\n",
    "end\n"
   ]
  },
  {
   "cell_type": "code",
   "execution_count": 6,
   "metadata": {},
   "outputs": [
    {
     "data": {
      "text/plain": [
       "ExtendedGraph{Float64}(\"graph_test\", Node{Float64}[Node{Float64}(\"a\", 1.0), Node{Float64}(\"b\", 2.4), Node{Float64}(\"c\", 3.0)], Edge{Float64}[])"
      ]
     },
     "metadata": {},
     "output_type": "display_data"
    }
   ],
   "source": [
    "ext_graph = ExtendedGraph(\"graph_test\", [Node(\"a\", 1.0), Node(\"b\", 2.4), Node(\"c\", 3.0)])"
   ]
  },
  {
   "cell_type": "code",
   "execution_count": 7,
   "metadata": {},
   "outputs": [
    {
     "data": {
      "text/plain": [
       "1-element Vector{Edge{Float64}}:\n",
       " Edge{Float64, Nothing}(Node{Float64}(\"a\", 1.0), Node{Float64}(\"b\", 2.4), nothing)"
      ]
     },
     "metadata": {},
     "output_type": "display_data"
    }
   ],
   "source": [
    "add_edge!(ext_graph, ext_graph.nodes[1], ext_graph.nodes[2])"
   ]
  },
  {
   "cell_type": "markdown",
   "metadata": {},
   "source": [
    "### Question 4)"
   ]
  },
  {
   "cell_type": "markdown",
   "metadata": {},
   "source": [
    "Implémentation de `show` pour un objet de type `ExtendedGraph`"
   ]
  },
  {
   "cell_type": "code",
   "execution_count": 58,
   "metadata": {},
   "outputs": [
    {
     "data": {
      "text/plain": [
       "Base.show"
      ]
     },
     "metadata": {},
     "output_type": "display_data"
    }
   ],
   "source": [
    "# Affichage de ExtendedGraph\n",
    "\"\"\"Extension de la fonction `show`pour un ExtendedGraph\"\"\"\n",
    "function show(graph::ExtendedGraph{T}) where {T}\n",
    "  println(\"Graph \", name(graph), \" has \", nb_nodes(graph), \" nodes and \", length(graph.edges), \" edges.\")\n",
    "  println(\"Nodes:\")\n",
    "  for node in nodes(graph)\n",
    "      show(node)\n",
    "  end\n",
    "  println(\"Edges:\")\n",
    "  for edge in graph.edges\n",
    "      show(edge)\n",
    "  end\n",
    "end"
   ]
  },
  {
   "cell_type": "code",
   "execution_count": 9,
   "metadata": {},
   "outputs": [
    {
     "name": "stdout",
     "output_type": "stream",
     "text": [
      "Graph graph_test has 3 nodes and 1 edges.\n",
      "Nodes:\n",
      "Node a, data: 1.0\n",
      "Node b, data: 2.4\n",
      "Node c, data: 3.0\n",
      "Edges:\n",
      "Edge from a to b\n"
     ]
    }
   ],
   "source": [
    "show(ext_graph)"
   ]
  },
  {
   "cell_type": "markdown",
   "metadata": {},
   "source": [
    "### Question 5)"
   ]
  },
  {
   "cell_type": "code",
   "execution_count": 10,
   "metadata": {},
   "outputs": [
    {
     "data": {
      "text/plain": [
       "406-element Vector{Any}:\n",
       " (1, 2)\n",
       " (1, 3)\n",
       " (1, 4)\n",
       " (1, 5)\n",
       " (1, 6)\n",
       " (1, 7)\n",
       " (1, 8)\n",
       " (1, 9)\n",
       " (1, 10)\n",
       " (1, 11)\n",
       " ⋮\n",
       " (25, 27)\n",
       " (25, 28)\n",
       " (25, 29)\n",
       " (26, 27)\n",
       " (26, 28)\n",
       " (26, 29)\n",
       " (27, 28)\n",
       " (27, 29)\n",
       " (28, 29)"
      ]
     },
     "metadata": {},
     "output_type": "display_data"
    }
   ],
   "source": [
    "header = read_header(\"instances/stsp/bayg29.tsp\")\n",
    "read_edges(header, \"instances/stsp/bayg29.tsp\")"
   ]
  },
  {
   "cell_type": "markdown",
   "metadata": {},
   "source": [
    "Modification de la méthode `read_edges()` :"
   ]
  },
  {
   "cell_type": "code",
   "execution_count": 11,
   "metadata": {},
   "outputs": [
    {
     "data": {
      "text/plain": [
       "read_edges"
      ]
     },
     "metadata": {},
     "output_type": "display_data"
    }
   ],
   "source": [
    "\"\"\"Analyse un fichier .tsp et renvoie l'ensemble des arêtes sous la forme d'un tableau.\"\"\"\n",
    "function read_edges(header::Dict{String, String}, filename::String)\n",
    "\n",
    "  edges = []\n",
    "  edge_weight_format = header[\"EDGE_WEIGHT_FORMAT\"]\n",
    "  known_edge_weight_formats = [\"FULL_MATRIX\", \"UPPER_ROW\", \"LOWER_ROW\",\n",
    "  \"UPPER_DIAG_ROW\", \"LOWER_DIAG_ROW\", \"UPPER_COL\", \"LOWER_COL\",\n",
    "  \"UPPER_DIAG_COL\", \"LOWER_DIAG_COL\"]\n",
    "\n",
    "  if !(edge_weight_format in known_edge_weight_formats)\n",
    "      @warn \"unknown edge weight format\" edge_weight_format\n",
    "      return edges, edge_weights\n",
    "  end\n",
    "\n",
    "  file = open(filename, \"r\")\n",
    "  dim = parse(Int, header[\"DIMENSION\"])\n",
    "  edge_weight_section = false\n",
    "  k = 0\n",
    "  n_edges = 0\n",
    "  i = 0\n",
    "  n_to_read = n_nodes_to_read(edge_weight_format, k, dim)\n",
    "  flag = false\n",
    "\n",
    "  for line in eachline(file)\n",
    "      line = strip(line)\n",
    "      if !flag\n",
    "          if occursin(r\"^EDGE_WEIGHT_SECTION\", line)\n",
    "              edge_weight_section = true\n",
    "              continue\n",
    "          end\n",
    "\n",
    "          if edge_weight_section\n",
    "              data = split(line)\n",
    "              n_data = length(data)\n",
    "              start = 0\n",
    "              while n_data > 0\n",
    "                  n_on_this_line = min(n_to_read, n_data)\n",
    "\n",
    "                  for j = start : start + n_on_this_line - 1\n",
    "                    # Les lignes suivantes ont été modifiées pour tenir compte du poids des arêtes\n",
    "                    n_edges = n_edges + 1\n",
    "                    edge_weight_value = parse(Float64, data[start+j+1])\n",
    "                    if edge_weight_format in [\"UPPER_ROW\", \"LOWER_COL\"]\n",
    "                      edge = (k+1, i+k+2, edge_weight_value)\n",
    "                    elseif edge_weight_format in [\"UPPER_DIAG_ROW\", \"LOWER_DIAG_COL\"]\n",
    "                      edge = (k+1, i+k+1, edge_weight_value)\n",
    "                    elseif edge_weight_format in [\"UPPER_COL\", \"LOWER_ROW\"]\n",
    "                      edge = (i+k+2, k+1, edge_weight_value)\n",
    "                    elseif edge_weight_format in [\"UPPER_DIAG_COL\", \"LOWER_DIAG_ROW\"]\n",
    "                      edge = (i+1, k+1, edge_weight_value)\n",
    "                    elseif edge_weight_format == \"FULL_MATRIX\"\n",
    "                      edge = (k+1, i+1, edge_weight_value)\n",
    "                    else\n",
    "                      warn(\"Unknown format - function read_edges\")\n",
    "                    end\n",
    "                    push!(edges, edge)\n",
    "                    i += 1\n",
    "                  end\n",
    "\n",
    "                  n_to_read -= n_on_this_line\n",
    "                  n_data -= n_on_this_line\n",
    "\n",
    "                  if n_to_read <= 0\n",
    "                      start += n_on_this_line\n",
    "                      k += 1\n",
    "                      i = 0\n",
    "                      n_to_read = n_nodes_to_read(edge_weight_format, k, dim)\n",
    "                  end\n",
    "\n",
    "                  if k >= dim\n",
    "                      n_data = 0\n",
    "                      flag = true\n",
    "                  end\n",
    "              end\n",
    "          end\n",
    "      end\n",
    "  end\n",
    "  close(file)\n",
    "  return edges\n",
    "end\n"
   ]
  },
  {
   "cell_type": "code",
   "execution_count": 12,
   "metadata": {},
   "outputs": [
    {
     "data": {
      "text/plain": [
       "406-element Vector{Any}:\n",
       " (1, 2, 97.0)\n",
       " (1, 3, 205.0)\n",
       " (1, 4, 139.0)\n",
       " (1, 5, 86.0)\n",
       " (1, 6, 60.0)\n",
       " (1, 7, 220.0)\n",
       " (1, 8, 65.0)\n",
       " (1, 9, 111.0)\n",
       " (1, 10, 115.0)\n",
       " (1, 11, 227.0)\n",
       " ⋮\n",
       " (25, 27, 120.0)\n",
       " (25, 28, 205.0)\n",
       " (25, 29, 270.0)\n",
       " (26, 27, 213.0)\n",
       " (26, 28, 145.0)\n",
       " (26, 29, 36.0)\n",
       " (27, 28, 94.0)\n",
       " (27, 29, 217.0)\n",
       " (28, 29, 162.0)"
      ]
     },
     "metadata": {},
     "output_type": "display_data"
    }
   ],
   "source": [
    "r = read_edges(header, \"instances/stsp/bayg29.tsp\")"
   ]
  },
  {
   "cell_type": "markdown",
   "metadata": {},
   "source": [
    "### Question 6)"
   ]
  },
  {
   "cell_type": "markdown",
   "metadata": {},
   "source": [
    "L'instance `bays29.tsp` est une matrice pleine symétrique dont les poids sont donnés au format `EXPLICIT`"
   ]
  },
  {
   "cell_type": "code",
   "execution_count": 13,
   "metadata": {},
   "outputs": [
    {
     "data": {
      "text/plain": [
       "841-element Vector{Any}:\n",
       " (1, 1, 0.0)\n",
       " (1, 2, 107.0)\n",
       " (1, 3, 241.0)\n",
       " (1, 4, 190.0)\n",
       " (1, 5, 124.0)\n",
       " (1, 6, 80.0)\n",
       " (1, 7, 316.0)\n",
       " (1, 8, 76.0)\n",
       " (1, 9, 152.0)\n",
       " (1, 10, 157.0)\n",
       " ⋮\n",
       " (29, 21, 108.0)\n",
       " (29, 22, 332.0)\n",
       " (29, 23, 342.0)\n",
       " (29, 24, 218.0)\n",
       " (29, 25, 350.0)\n",
       " (29, 26, 39.0)\n",
       " (29, 27, 263.0)\n",
       " (29, 28, 199.0)\n",
       " (29, 29, 0.0)"
      ]
     },
     "metadata": {},
     "output_type": "display_data"
    }
   ],
   "source": [
    "header = read_header(\"instances/stsp/bays29.tsp\")\n",
    "nodes_graph = read_nodes(header, \"instances/stsp/bays29.tsp\")\n",
    "edges_graph = read_edges(header, \"instances/stsp/bays29.tsp\")"
   ]
  },
  {
   "cell_type": "markdown",
   "metadata": {},
   "source": [
    "Nous avons créé un vecteur contenant les arêtes et les poids des arêtes. Construisons à présent l'objet `Graph` correspondant :  "
   ]
  },
  {
   "cell_type": "code",
   "execution_count": 56,
   "metadata": {},
   "outputs": [],
   "source": [
    "graph_bays29 = ExtendedGraph(\"bays29\", [Node(\"1\", nodes_graph[1])])\n",
    "for i=2:length(nodes_graph)\n",
    "  node = Node(string(i), nodes_graph[i])\n",
    "  add_node!(graph_bays29, node)\n",
    "end\n",
    "\n",
    "for i=1:length(edges_graph)\n",
    "  s_node = graph_bays29.nodes[edges_graph[i][1]]\n",
    "  e_node = graph_bays29.nodes[edges_graph[i][2]]\n",
    "  w_edge = edges_graph[i][3]\n",
    "  add_edge!(graph_bays29, s_node, e_node, w_edge)\n",
    "end\n"
   ]
  },
  {
   "cell_type": "code",
   "execution_count": 57,
   "metadata": {},
   "outputs": [
    {
     "name": "stdout",
     "output_type": "stream",
     "text": [
      "Graph bays29 has 29 nodes and 435 edges.\n",
      "Nodes:\n",
      "Node 1, data: [1150.0, 1760.0]\n",
      "Node 2, data: [630.0, 1660.0]\n",
      "Node 3, data: [40.0, 2090.0]\n",
      "Node 4, data: [750.0, 1100.0]\n",
      "Node 5, data: [750.0, 2030.0]\n",
      "Node 6, data: [1030.0, 2070.0]\n",
      "Node 7, data: [1650.0, 650.0]\n",
      "Node 8, data: [1490.0, 1630.0]\n",
      "Node 9, data: [790.0, 2260.0]\n",
      "Node 10, data: [710.0, 1310.0]\n",
      "Node 11, data: [840.0, 550.0]\n",
      "Node 12, data: [1170.0, 2300.0]\n",
      "Node 13, data: [970.0, 1340.0]\n",
      "Node 14, data: [510.0, 700.0]\n",
      "Node 15, data: [750.0, 900.0]\n",
      "Node 16, data: [1280.0, 1200.0]\n",
      "Node 17, data: [230.0, 590.0]\n",
      "Node 18, data: [460.0, 860.0]\n",
      "Node 19, data: [1040.0, 950.0]\n",
      "Node 20, data: [590.0, 1390.0]\n",
      "Node 21, data: [830.0, 1770.0]\n",
      "Node 22, data: [490.0, 500.0]\n",
      "Node 23, data: [1840.0, 1240.0]\n",
      "Node 24, data: [1260.0, 1500.0]\n",
      "Node 25, data: [1280.0, 790.0]\n",
      "Node 26, data: [490.0, 2130.0]\n",
      "Node 27, data: [1460.0, 1420.0]\n",
      "Node 28, data: [1260.0, 1910.0]\n",
      "Node 29, data: [360.0, 1980.0]\n",
      "Edges:\n",
      "Edge from 1 to 1, weight: 0.0\n",
      "Edge from 1 to 2, weight: 107.0\n",
      "Edge from 1 to 3, weight: 241.0\n",
      "Edge from 1 to 4, weight: 190.0\n",
      "Edge from 1 to 5, weight: 124.0\n",
      "Edge from 1 to 6, weight: 80.0\n",
      "Edge from 1 to 7, weight: 316.0\n",
      "Edge from 1 to 8, weight: 76.0\n",
      "Edge from 1 to 9, weight: 152.0\n",
      "Edge from 1 to 10, weight: 157.0\n",
      "Edge from 1 to 11, weight: 283.0\n",
      "Edge from 1 to 12, weight: 133.0\n",
      "Edge from 1 to 13, weight: 113.0\n",
      "Edge from 1 to 14, weight: 297.0\n",
      "Edge from 1 to 15, weight: 228.0\n",
      "Edge from 1 to 16, weight: 129.0\n",
      "Edge from 1 to 17, weight: 348.0\n",
      "Edge from 1 to 18, weight: 276.0\n",
      "Edge from 1 to 19, weight: 188.0\n",
      "Edge from 1 to 20, weight: 150.0\n",
      "Edge from 1 to 21, weight: 65.0\n",
      "Edge from 1 to 22, weight: 341.0\n",
      "Edge from 1 to 23, weight: 184.0\n",
      "Edge from 1 to 24, weight: 67.0\n",
      "Edge from 1 to 25, weight: 221.0\n",
      "Edge from 1 to 26, weight: 169.0\n",
      "Edge from 1 to 27, weight: 108.0\n",
      "Edge from 1 to 28, weight: 45.0\n",
      "Edge from 1 to 29, weight: 167.0\n",
      "Edge from 2 to 2, weight: 0.0\n",
      "Edge from 2 to 3, weight: 148.0\n",
      "Edge from 2 to 4, weight: 137.0\n",
      "Edge from 2 to 5, weight: 88.0\n",
      "Edge from 2 to 6, weight: 127.0\n",
      "Edge from 2 to 7, weight: 336.0\n",
      "Edge from 2 to 8, weight: 183.0\n",
      "Edge from 2 to 9, weight: 134.0\n",
      "Edge from 2 to 10, weight: 95.0\n",
      "Edge from 2 to 11, weight: 254.0\n",
      "Edge from 2 to 12, weight: 180.0\n",
      "Edge from 2 to 13, weight: 101.0\n",
      "Edge from 2 to 14, weight: 234.0\n",
      "Edge from 2 to 15, weight: 175.0\n",
      "Edge from 2 to 16, weight: 176.0\n",
      "Edge from 2 to 17, weight: 265.0\n",
      "Edge from 2 to 18, weight: 199.0\n",
      "Edge from 2 to 19, weight: 182.0\n",
      "Edge from 2 to 20, weight: 67.0\n",
      "Edge from 2 to 21, weight: 42.0\n",
      "Edge from 2 to 22, weight: 278.0\n",
      "Edge from 2 to 23, weight: 271.0\n",
      "Edge from 2 to 24, weight: 146.0\n",
      "Edge from 2 to 25, weight: 251.0\n",
      "Edge from 2 to 26, weight: 105.0\n",
      "Edge from 2 to 27, weight: 191.0\n",
      "Edge from 2 to 28, weight: 139.0\n",
      "Edge from 2 to 29, weight: 79.0\n",
      "Edge from 3 to 3, weight: 0.0\n",
      "Edge from 3 to 4, weight: 374.0\n",
      "Edge from 3 to 5, weight: 171.0\n",
      "Edge from 3 to 6, weight: 259.0\n",
      "Edge from 3 to 7, weight: 509.0\n",
      "Edge from 3 to 8, weight: 317.0\n",
      "Edge from 3 to 9, weight: 217.0\n",
      "Edge from 3 to 10, weight: 232.0\n",
      "Edge from 3 to 11, weight: 491.0\n",
      "Edge from 3 to 12, weight: 312.0\n",
      "Edge from 3 to 13, weight: 280.0\n",
      "Edge from 3 to 14, weight: 391.0\n",
      "Edge from 3 to 15, weight: 412.0\n",
      "Edge from 3 to 16, weight: 349.0\n",
      "Edge from 3 to 17, weight: 422.0\n",
      "Edge from 3 to 18, weight: 356.0\n",
      "Edge from 3 to 19, weight: 355.0\n",
      "Edge from 3 to 20, weight: 204.0\n",
      "Edge from 3 to 21, weight: 182.0\n",
      "Edge from 3 to 22, weight: 435.0\n",
      "Edge from 3 to 23, weight: 417.0\n",
      "Edge from 3 to 24, weight: 292.0\n",
      "Edge from 3 to 25, weight: 424.0\n",
      "Edge from 3 to 26, weight: 116.0\n",
      "Edge from 3 to 27, weight: 337.0\n",
      "Edge from 3 to 28, weight: 273.0\n",
      "Edge from 3 to 29, weight: 77.0\n",
      "Edge from 4 to 4, weight: 0.0\n",
      "Edge from 4 to 5, weight: 202.0\n",
      "Edge from 4 to 6, weight: 234.0\n",
      "Edge from 4 to 7, weight: 222.0\n",
      "Edge from 4 to 8, weight: 192.0\n",
      "Edge from 4 to 9, weight: 248.0\n",
      "Edge from 4 to 10, weight: 42.0\n",
      "Edge from 4 to 11, weight: 117.0\n",
      "Edge from 4 to 12, weight: 287.0\n",
      "Edge from 4 to 13, weight: 79.0\n",
      "Edge from 4 to 14, weight: 107.0\n",
      "Edge from 4 to 15, weight: 38.0\n",
      "Edge from 4 to 16, weight: 121.0\n",
      "Edge from 4 to 17, weight: 152.0\n",
      "Edge from 4 to 18, weight: 86.0\n",
      "Edge from 4 to 19, weight: 68.0\n",
      "Edge from 4 to 20, weight: 70.0\n",
      "Edge from 4 to 21, weight: 137.0\n",
      "Edge from 4 to 22, weight: 151.0\n",
      "Edge from 4 to 23, weight: 239.0\n",
      "Edge from 4 to 24, weight: 135.0\n",
      "Edge from 4 to 25, weight: 137.0\n",
      "Edge from 4 to 26, weight: 242.0\n",
      "Edge from 4 to 27, weight: 165.0\n",
      "Edge from 4 to 28, weight: 228.0\n",
      "Edge from 4 to 29, weight: 205.0\n",
      "Edge from 5 to 5, weight: 0.0\n",
      "Edge from 5 to 6, weight: 61.0\n",
      "Edge from 5 to 7, weight: 392.0\n",
      "Edge from 5 to 8, weight: 202.0\n",
      "Edge from 5 to 9, weight: 46.0\n",
      "Edge from 5 to 10, weight: 160.0\n",
      "Edge from 5 to 11, weight: 319.0\n",
      "Edge from 5 to 12, weight: 112.0\n",
      "Edge from 5 to 13, weight: 163.0\n",
      "Edge from 5 to 14, weight: 322.0\n",
      "Edge from 5 to 15, weight: 240.0\n",
      "Edge from 5 to 16, weight: 232.0\n",
      "Edge from 5 to 17, weight: 314.0\n",
      "Edge from 5 to 18, weight: 287.0\n",
      "Edge from 5 to 19, weight: 238.0\n",
      "Edge from 5 to 20, weight: 155.0\n",
      "Edge from 5 to 21, weight: 65.0\n",
      "Edge from 5 to 22, weight: 366.0\n",
      "Edge from 5 to 23, weight: 300.0\n",
      "Edge from 5 to 24, weight: 175.0\n",
      "Edge from 5 to 25, weight: 307.0\n",
      "Edge from 5 to 26, weight: 57.0\n",
      "Edge from 5 to 27, weight: 220.0\n",
      "Edge from 5 to 28, weight: 121.0\n",
      "Edge from 5 to 29, weight: 97.0\n",
      "Edge from 6 to 6, weight: 0.0\n",
      "Edge from 6 to 7, weight: 386.0\n",
      "Edge from 6 to 8, weight: 141.0\n",
      "Edge from 6 to 9, weight: 72.0\n",
      "Edge from 6 to 10, weight: 167.0\n",
      "Edge from 6 to 11, weight: 351.0\n",
      "Edge from 6 to 12, weight: 55.0\n",
      "Edge from 6 to 13, weight: 157.0\n",
      "Edge from 6 to 14, weight: 331.0\n",
      "Edge from 6 to 15, weight: 272.0\n",
      "Edge from 6 to 16, weight: 226.0\n",
      "Edge from 6 to 17, weight: 362.0\n",
      "Edge from 6 to 18, weight: 296.0\n",
      "Edge from 6 to 19, weight: 232.0\n",
      "Edge from 6 to 20, weight: 164.0\n",
      "Edge from 6 to 21, weight: 85.0\n",
      "Edge from 6 to 22, weight: 375.0\n",
      "Edge from 6 to 23, weight: 249.0\n",
      "Edge from 6 to 24, weight: 147.0\n",
      "Edge from 6 to 25, weight: 301.0\n",
      "Edge from 6 to 26, weight: 118.0\n",
      "Edge from 6 to 27, weight: 188.0\n",
      "Edge from 6 to 28, weight: 60.0\n",
      "Edge from 6 to 29, weight: 185.0\n",
      "Edge from 7 to 7, weight: 0.0\n",
      "Edge from 7 to 8, weight: 233.0\n",
      "Edge from 7 to 9, weight: 438.0\n",
      "Edge from 7 to 10, weight: 254.0\n",
      "Edge from 7 to 11, weight: 202.0\n",
      "Edge from 7 to 12, weight: 439.0\n",
      "Edge from 7 to 13, weight: 235.0\n",
      "Edge from 7 to 14, weight: 254.0\n",
      "Edge from 7 to 15, weight: 210.0\n",
      "Edge from 7 to 16, weight: 187.0\n",
      "Edge from 7 to 17, weight: 313.0\n",
      "Edge from 7 to 18, weight: 266.0\n",
      "Edge from 7 to 19, weight: 154.0\n",
      "Edge from 7 to 20, weight: 282.0\n",
      "Edge from 7 to 21, weight: 321.0\n",
      "Edge from 7 to 22, weight: 298.0\n",
      "Edge from 7 to 23, weight: 168.0\n",
      "Edge from 7 to 24, weight: 249.0\n",
      "Edge from 7 to 25, weight: 95.0\n",
      "Edge from 7 to 26, weight: 437.0\n",
      "Edge from 7 to 27, weight: 190.0\n",
      "Edge from 7 to 28, weight: 314.0\n",
      "Edge from 7 to 29, weight: 435.0\n",
      "Edge from 8 to 8, weight: 0.0\n",
      "Edge from 8 to 9, weight: 213.0\n",
      "Edge from 8 to 10, weight: 188.0\n",
      "Edge from 8 to 11, weight: 272.0\n",
      "Edge from 8 to 12, weight: 193.0\n",
      "Edge from 8 to 13, weight: 131.0\n",
      "Edge from 8 to 14, weight: 302.0\n",
      "Edge from 8 to 15, weight: 233.0\n",
      "Edge from 8 to 16, weight: 98.0\n",
      "Edge from 8 to 17, weight: 344.0\n",
      "Edge from 8 to 18, weight: 289.0\n",
      "Edge from 8 to 19, weight: 177.0\n",
      "Edge from 8 to 20, weight: 216.0\n",
      "Edge from 8 to 21, weight: 141.0\n",
      "Edge from 8 to 22, weight: 346.0\n",
      "Edge from 8 to 23, weight: 108.0\n",
      "Edge from 8 to 24, weight: 57.0\n",
      "Edge from 8 to 25, weight: 190.0\n",
      "Edge from 8 to 26, weight: 245.0\n",
      "Edge from 8 to 27, weight: 43.0\n",
      "Edge from 8 to 28, weight: 81.0\n",
      "Edge from 8 to 29, weight: 243.0\n",
      "Edge from 9 to 9, weight: 0.0\n",
      "Edge from 9 to 10, weight: 206.0\n",
      "Edge from 9 to 11, weight: 365.0\n",
      "Edge from 9 to 12, weight: 89.0\n",
      "Edge from 9 to 13, weight: 209.0\n",
      "Edge from 9 to 14, weight: 368.0\n",
      "Edge from 9 to 15, weight: 286.0\n",
      "Edge from 9 to 16, weight: 278.0\n",
      "Edge from 9 to 17, weight: 360.0\n",
      "Edge from 9 to 18, weight: 333.0\n",
      "Edge from 9 to 19, weight: 284.0\n",
      "Edge from 9 to 20, weight: 201.0\n",
      "Edge from 9 to 21, weight: 111.0\n",
      "Edge from 9 to 22, weight: 412.0\n",
      "Edge from 9 to 23, weight: 321.0\n",
      "Edge from 9 to 24, weight: 221.0\n",
      "Edge from 9 to 25, weight: 353.0\n",
      "Edge from 9 to 26, weight: 72.0\n",
      "Edge from 9 to 27, weight: 266.0\n",
      "Edge from 9 to 28, weight: 132.0\n",
      "Edge from 9 to 29, weight: 111.0\n",
      "Edge from 10 to 10, weight: 0.0\n",
      "Edge from 10 to 11, weight: 159.0\n",
      "Edge from 10 to 12, weight: 220.0\n",
      "Edge from 10 to 13, weight: 57.0\n",
      "Edge from 10 to 14, weight: 149.0\n",
      "Edge from 10 to 15, weight: 80.0\n",
      "Edge from 10 to 16, weight: 132.0\n",
      "Edge from 10 to 17, weight: 193.0\n",
      "Edge from 10 to 18, weight: 127.0\n",
      "Edge from 10 to 19, weight: 100.0\n",
      "Edge from 10 to 20, weight: 28.0\n",
      "Edge from 10 to 21, weight: 95.0\n",
      "Edge from 10 to 22, weight: 193.0\n",
      "Edge from 10 to 23, weight: 241.0\n",
      "Edge from 10 to 24, weight: 131.0\n",
      "Edge from 10 to 25, weight: 169.0\n",
      "Edge from 10 to 26, weight: 200.0\n",
      "Edge from 10 to 27, weight: 161.0\n",
      "Edge from 10 to 28, weight: 189.0\n",
      "Edge from 10 to 29, weight: 163.0\n",
      "Edge from 11 to 11, weight: 0.0\n",
      "Edge from 11 to 12, weight: 404.0\n",
      "Edge from 11 to 13, weight: 176.0\n",
      "Edge from 11 to 14, weight: 106.0\n",
      "Edge from 11 to 15, weight: 79.0\n",
      "Edge from 11 to 16, weight: 161.0\n",
      "Edge from 11 to 17, weight: 165.0\n",
      "Edge from 11 to 18, weight: 141.0\n",
      "Edge from 11 to 19, weight: 95.0\n",
      "Edge from 11 to 20, weight: 187.0\n",
      "Edge from 11 to 21, weight: 254.0\n",
      "Edge from 11 to 22, weight: 103.0\n",
      "Edge from 11 to 23, weight: 279.0\n",
      "Edge from 11 to 24, weight: 215.0\n",
      "Edge from 11 to 25, weight: 117.0\n",
      "Edge from 11 to 26, weight: 359.0\n",
      "Edge from 11 to 27, weight: 216.0\n",
      "Edge from 11 to 28, weight: 308.0\n",
      "Edge from 11 to 29, weight: 322.0\n",
      "Edge from 12 to 12, weight: 0.0\n",
      "Edge from 12 to 13, weight: 210.0\n",
      "Edge from 12 to 14, weight: 384.0\n",
      "Edge from 12 to 15, weight: 325.0\n",
      "Edge from 12 to 16, weight: 279.0\n",
      "Edge from 12 to 17, weight: 415.0\n",
      "Edge from 12 to 18, weight: 349.0\n",
      "Edge from 12 to 19, weight: 285.0\n",
      "Edge from 12 to 20, weight: 217.0\n",
      "Edge from 12 to 21, weight: 138.0\n",
      "Edge from 12 to 22, weight: 428.0\n",
      "Edge from 12 to 23, weight: 310.0\n",
      "Edge from 12 to 24, weight: 200.0\n",
      "Edge from 12 to 25, weight: 354.0\n",
      "Edge from 12 to 26, weight: 169.0\n",
      "Edge from 12 to 27, weight: 241.0\n",
      "Edge from 12 to 28, weight: 112.0\n",
      "Edge from 12 to 29, weight: 238.0\n",
      "Edge from 13 to 13, weight: 0.0\n",
      "Edge from 13"
     ]
    },
    {
     "name": "stdout",
     "output_type": "stream",
     "text": [
      " to 14, weight: 186.0\n",
      "Edge from 13 to 15, weight: 117.0\n",
      "Edge from 13 to 16, weight: 75.0\n",
      "Edge from 13 to 17, weight: 231.0\n",
      "Edge from 13 to 18, weight: 165.0\n",
      "Edge from 13 to 19, weight: 81.0\n",
      "Edge from 13 to 20, weight: 85.0\n",
      "Edge from 13 to 21, weight: 92.0\n",
      "Edge from 13 to 22, weight: 230.0\n",
      "Edge from 13 to 23, weight: 184.0\n",
      "Edge from 13 to 24, weight: 74.0\n",
      "Edge from 13 to 25, weight: 150.0\n",
      "Edge from 13 to 26, weight: 208.0\n",
      "Edge from 13 to 27, weight: 104.0\n",
      "Edge from 13 to 28, weight: 158.0\n",
      "Edge from 13 to 29, weight: 206.0\n",
      "Edge from 14 to 14, weight: 0.0\n",
      "Edge from 14 to 15, weight: 69.0\n",
      "Edge from 14 to 16, weight: 191.0\n",
      "Edge from 14 to 17, weight: 59.0\n",
      "Edge from 14 to 18, weight: 35.0\n",
      "Edge from 14 to 19, weight: 125.0\n",
      "Edge from 14 to 20, weight: 167.0\n",
      "Edge from 14 to 21, weight: 255.0\n",
      "Edge from 14 to 22, weight: 44.0\n",
      "Edge from 14 to 23, weight: 309.0\n",
      "Edge from 14 to 24, weight: 245.0\n",
      "Edge from 14 to 25, weight: 169.0\n",
      "Edge from 14 to 26, weight: 327.0\n",
      "Edge from 14 to 27, weight: 246.0\n",
      "Edge from 14 to 28, weight: 335.0\n",
      "Edge from 14 to 29, weight: 288.0\n",
      "Edge from 15 to 15, weight: 0.0\n",
      "Edge from 15 to 16, weight: 122.0\n",
      "Edge from 15 to 17, weight: 122.0\n",
      "Edge from 15 to 18, weight: 56.0\n",
      "Edge from 15 to 19, weight: 56.0\n",
      "Edge from 15 to 20, weight: 108.0\n",
      "Edge from 15 to 21, weight: 175.0\n",
      "Edge from 15 to 22, weight: 113.0\n",
      "Edge from 15 to 23, weight: 240.0\n",
      "Edge from 15 to 24, weight: 176.0\n",
      "Edge from 15 to 25, weight: 125.0\n",
      "Edge from 15 to 26, weight: 280.0\n",
      "Edge from 15 to 27, weight: 177.0\n",
      "Edge from 15 to 28, weight: 266.0\n",
      "Edge from 15 to 29, weight: 243.0\n",
      "Edge from 16 to 16, weight: 0.0\n",
      "Edge from 16 to 17, weight: 244.0\n",
      "Edge from 16 to 18, weight: 178.0\n",
      "Edge from 16 to 19, weight: 66.0\n",
      "Edge from 16 to 20, weight: 160.0\n",
      "Edge from 16 to 21, weight: 161.0\n",
      "Edge from 16 to 22, weight: 235.0\n",
      "Edge from 16 to 23, weight: 118.0\n",
      "Edge from 16 to 24, weight: 62.0\n",
      "Edge from 16 to 25, weight: 92.0\n",
      "Edge from 16 to 26, weight: 277.0\n",
      "Edge from 16 to 27, weight: 55.0\n",
      "Edge from 16 to 28, weight: 155.0\n",
      "Edge from 16 to 29, weight: 275.0\n",
      "Edge from 17 to 17, weight: 0.0\n",
      "Edge from 17 to 18, weight: 66.0\n",
      "Edge from 17 to 19, weight: 178.0\n",
      "Edge from 17 to 20, weight: 198.0\n",
      "Edge from 17 to 21, weight: 286.0\n",
      "Edge from 17 to 22, weight: 77.0\n",
      "Edge from 17 to 23, weight: 362.0\n",
      "Edge from 17 to 24, weight: 287.0\n",
      "Edge from 17 to 25, weight: 228.0\n",
      "Edge from 17 to 26, weight: 358.0\n",
      "Edge from 17 to 27, weight: 299.0\n",
      "Edge from 17 to 28, weight: 380.0\n",
      "Edge from 17 to 29, weight: 319.0\n",
      "Edge from 18 to 18, weight: 0.0\n",
      "Edge from 18 to 19, weight: 112.0\n",
      "Edge from 18 to 20, weight: 132.0\n",
      "Edge from 18 to 21, weight: 220.0\n",
      "Edge from 18 to 22, weight: 79.0\n",
      "Edge from 18 to 23, weight: 296.0\n",
      "Edge from 18 to 24, weight: 232.0\n",
      "Edge from 18 to 25, weight: 181.0\n",
      "Edge from 18 to 26, weight: 292.0\n",
      "Edge from 18 to 27, weight: 233.0\n",
      "Edge from 18 to 28, weight: 314.0\n",
      "Edge from 18 to 29, weight: 253.0\n",
      "Edge from 19 to 19, weight: 0.0\n",
      "Edge from 19 to 20, weight: 128.0\n",
      "Edge from 19 to 21, weight: 167.0\n",
      "Edge from 19 to 22, weight: 169.0\n",
      "Edge from 19 to 23, weight: 179.0\n",
      "Edge from 19 to 24, weight: 120.0\n",
      "Edge from 19 to 25, weight: 69.0\n",
      "Edge from 19 to 26, weight: 283.0\n",
      "Edge from 19 to 27, weight: 121.0\n",
      "Edge from 19 to 28, weight: 213.0\n",
      "Edge from 19 to 29, weight: 281.0\n",
      "Edge from 20 to 20, weight: 0.0\n",
      "Edge from 20 to 21, weight: 88.0\n",
      "Edge from 20 to 22, weight: 211.0\n",
      "Edge from 20 to 23, weight: 269.0\n",
      "Edge from 20 to 24, weight: 159.0\n",
      "Edge from 20 to 25, weight: 197.0\n",
      "Edge from 20 to 26, weight: 172.0\n",
      "Edge from 20 to 27, weight: 189.0\n",
      "Edge from 20 to 28, weight: 182.0\n",
      "Edge from 20 to 29, weight: 135.0\n",
      "Edge from 21 to 21, weight: 0.0\n",
      "Edge from 21 to 22, weight: 299.0\n",
      "Edge from 21 to 23, weight: 229.0\n",
      "Edge from 21 to 24, weight: 104.0\n",
      "Edge from 21 to 25, weight: 236.0\n",
      "Edge from 21 to 26, weight: 110.0\n",
      "Edge from 21 to 27, weight: 149.0\n",
      "Edge from 21 to 28, weight: 97.0\n",
      "Edge from 21 to 29, weight: 108.0\n",
      "Edge from 22 to 22, weight: 0.0\n",
      "Edge from 22 to 23, weight: 353.0\n",
      "Edge from 22 to 24, weight: 289.0\n",
      "Edge from 22 to 25, weight: 213.0\n",
      "Edge from 22 to 26, weight: 371.0\n",
      "Edge from 22 to 27, weight: 290.0\n",
      "Edge from 22 to 28, weight: 379.0\n",
      "Edge from 22 to 29, weight: 332.0\n",
      "Edge from 23 to 23, weight: 0.0\n",
      "Edge from 23 to 24, weight: 121.0\n",
      "Edge from 23 to 25, weight: 162.0\n",
      "Edge from 23 to 26, weight: 345.0\n",
      "Edge from 23 to 27, weight: 80.0\n",
      "Edge from 23 to 28, weight: 189.0\n",
      "Edge from 23 to 29, weight: 342.0\n",
      "Edge from 24 to 24, weight: 0.0\n",
      "Edge from 24 to 25, weight: 154.0\n",
      "Edge from 24 to 26, weight: 220.0\n",
      "Edge from 24 to 27, weight: 41.0\n",
      "Edge from 24 to 28, weight: 93.0\n",
      "Edge from 24 to 29, weight: 218.0\n",
      "Edge from 25 to 25, weight: 0.0\n",
      "Edge from 25 to 26, weight: 352.0\n",
      "Edge from 25 to 27, weight: 147.0\n",
      "Edge from 25 to 28, weight: 247.0\n",
      "Edge from 25 to 29, weight: 350.0\n",
      "Edge from 26 to 26, weight: 0.0\n",
      "Edge from 26 to 27, weight: 265.0\n",
      "Edge from 26 to 28, weight: 178.0\n",
      "Edge from 26 to 29, weight: 39.0\n",
      "Edge from 27 to 27, weight: 0.0\n",
      "Edge from 27 to 28, weight: 124.0\n",
      "Edge from 27 to 29, weight: 263.0\n",
      "Edge from 28 to 28, weight: 0.0\n",
      "Edge from 28 to 29, weight: 199.0\n",
      "Edge from 29 to 29, weight: 0.0\n"
     ]
    }
   ],
   "source": [
    "show(graph_bays29)"
   ]
  },
  {
   "cell_type": "markdown",
   "metadata": {},
   "source": [
    "### Question 7)"
   ]
  },
  {
   "cell_type": "markdown",
   "metadata": {},
   "source": [
    "c.f fichier `main.jl` à l'url : https://github.com/nathanemac/Projet/tree/phase1/Phase%201"
   ]
  }
 ],
 "metadata": {
  "kernelspec": {
   "display_name": "Julia 1.7.2",
   "language": "julia",
   "name": "julia-1.7"
  },
  "language_info": {
   "file_extension": ".jl",
   "mimetype": "application/julia",
   "name": "julia",
   "version": "1.7.2"
  },
  "orig_nbformat": 4
 },
 "nbformat": 4,
 "nbformat_minor": 2
}
