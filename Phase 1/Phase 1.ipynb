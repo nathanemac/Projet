{
 "cells": [
  {
   "cell_type": "markdown",
   "metadata": {},
   "source": [
    "## MTH6412B - Projet Phase 1\n",
    "#### Victor Darleguy - Nathan Allaire"
   ]
  },
  {
   "cell_type": "markdown",
   "metadata": {},
   "source": [
    "### Question 1)"
   ]
  },
  {
   "cell_type": "code",
   "execution_count": 3,
   "metadata": {},
   "outputs": [
    {
     "data": {
      "text/plain": [
       "plot_graph"
      ]
     },
     "metadata": {},
     "output_type": "display_data"
    }
   ],
   "source": [
    "include(\"node.jl\")\n",
    "include(\"graph.jl\")\n",
    "include(\"read_stsp.jl\")"
   ]
  },
  {
   "cell_type": "markdown",
   "metadata": {},
   "source": [
    "### Question 2)"
   ]
  },
  {
   "cell_type": "markdown",
   "metadata": {},
   "source": [
    "Création du type `Edge` :"
   ]
  },
  {
   "cell_type": "code",
   "execution_count": 4,
   "metadata": {},
   "outputs": [
    {
     "data": {
      "text/plain": [
       "Base.show"
      ]
     },
     "metadata": {},
     "output_type": "display_data"
    }
   ],
   "source": [
    "\"\"\"\n",
    "Type abstrait dont d'autres types d'arêtes dériveront.\n",
    "\"\"\"\n",
    "abstract type AbstractEdge{T, U} end\n",
    "\n",
    "\"\"\"\n",
    "Type représentant les arêtes d'un graphe.\n",
    "\n",
    "Exemple:\n",
    "\n",
    "    node1 = Node(\"Joe\", 3.14)\n",
    "    node2 = Node(\"Steve\", exp(1))\n",
    "    edge = Edge(node1, node2)       # Arête non pondérée\n",
    "    edge = Edge(node1, node2, 5.6)  # Arête pondérée avec un poids de 5.6\n",
    "\"\"\"\n",
    "mutable struct Edge{T, U} <: AbstractEdge{T, U}\n",
    "  start_node::Node{T}\n",
    "  end_node::Node{T}\n",
    "  weight::U\n",
    "end\n",
    "\n",
    "# Constructeur pour les arêtes non pondérées\n",
    "Edge(s::Node{T}, e::Node{T}) where T = Edge(s, e, nothing)\n",
    "\n",
    "# on présume que toutes les arêtes dérivant d'AbstractEdge\n",
    "# posséderont des champs `start_node`, `end_node` et `weight`.\n",
    "\n",
    "\"\"\"Renvoie le noeud de départ de l'arête.\"\"\"\n",
    "start_node(edge::AbstractEdge) = edge.start_node\n",
    "\n",
    "\"\"\"Renvoie le noeud d'arrivée de l'arête.\"\"\"\n",
    "end_node(edge::AbstractEdge) = edge.end_node\n",
    "\n",
    "\"\"\"Renvoie le poids de l'arête.\"\"\"\n",
    "weight(edge::AbstractEdge) = edge.weight\n",
    "\n",
    "\"\"\"Affiche une arête.\"\"\"\n",
    "function show(edge::AbstractEdge)\n",
    "    if edge.weight === nothing\n",
    "        println(\"Edge from \", name(start_node(edge)), \" to \", name(end_node(edge)))\n",
    "    else\n",
    "        println(\"Edge from \", name(start_node(edge)), \" to \", name(end_node(edge)), \", weight: \", weight(edge))\n",
    "    end\n",
    "end  "
   ]
  },
  {
   "cell_type": "markdown",
   "metadata": {},
   "source": [
    "Exemple d'utilisation du type `Edge`:"
   ]
  },
  {
   "cell_type": "code",
   "execution_count": 12,
   "metadata": {},
   "outputs": [
    {
     "data": {
      "text/plain": [
       "Edge{Float64, Nothing}(Node{Float64}(\"a\", 1.0), Node{Float64}(\"b\", 2.4), nothing)"
      ]
     },
     "metadata": {},
     "output_type": "display_data"
    }
   ],
   "source": [
    "edge_test = Edge(Node(\"a\", 1.0), Node(\"b\", 2.4))"
   ]
  },
  {
   "cell_type": "code",
   "execution_count": 13,
   "metadata": {},
   "outputs": [
    {
     "name": "stdout",
     "output_type": "stream",
     "text": [
      "Edge from a to b\n"
     ]
    }
   ],
   "source": [
    "show(edge_test)"
   ]
  },
  {
   "cell_type": "markdown",
   "metadata": {},
   "source": [
    "### Question 3)"
   ]
  },
  {
   "cell_type": "markdown",
   "metadata": {},
   "source": [
    "Extension du type `Graph`"
   ]
  },
  {
   "cell_type": "code",
   "execution_count": 17,
   "metadata": {},
   "outputs": [
    {
     "ename": "ErrorException",
     "evalue": "invalid redefinition of constant ExtendedGraph",
     "output_type": "error",
     "traceback": [
      "invalid redefinition of constant ExtendedGraph\n",
      "\n",
      "Stacktrace:\n",
      "  [1] top-level scope\n",
      "    @ ~/Desktop/PhD/Cours/A23/MTH6412B/Projet/Phase 1/Phase 1.ipynb:2\n",
      "  [2] eval\n",
      "    @ ./boot.jl:373 [inlined]\n",
      "  [3] include_string(mapexpr::typeof(REPL.softscope), mod::Module, code::String, filename::String)\n",
      "    @ Base ./loading.jl:1196\n",
      "  [4] #invokelatest#2\n",
      "    @ ./essentials.jl:716 [inlined]\n",
      "  [5] invokelatest\n",
      "    @ ./essentials.jl:714 [inlined]\n",
      "  [6] (::VSCodeServer.var\"#164#165\"{VSCodeServer.NotebookRunCellArguments, String})()\n",
      "    @ VSCodeServer ~/.vscode/extensions/julialang.language-julia-1.6.24/scripts/packages/VSCodeServer/src/serve_notebook.jl:19\n",
      "  [7] withpath(f::VSCodeServer.var\"#164#165\"{VSCodeServer.NotebookRunCellArguments, String}, path::String)\n",
      "    @ VSCodeServer ~/.vscode/extensions/julialang.language-julia-1.6.24/scripts/packages/VSCodeServer/src/repl.jl:184\n",
      "  [8] notebook_runcell_request(conn::VSCodeServer.JSONRPC.JSONRPCEndpoint{Base.PipeEndpoint, Base.PipeEndpoint}, params::VSCodeServer.NotebookRunCellArguments)\n",
      "    @ VSCodeServer ~/.vscode/extensions/julialang.language-julia-1.6.24/scripts/packages/VSCodeServer/src/serve_notebook.jl:13\n",
      "  [9] dispatch_msg(x::VSCodeServer.JSONRPC.JSONRPCEndpoint{Base.PipeEndpoint, Base.PipeEndpoint}, dispatcher::VSCodeServer.JSONRPC.MsgDispatcher, msg::Dict{String, Any})\n",
      "    @ VSCodeServer.JSONRPC ~/.vscode/extensions/julialang.language-julia-1.6.24/scripts/packages/JSONRPC/src/typed.jl:67\n",
      " [10] serve_notebook(pipename::String, outputchannel_logger::Base.CoreLogging.SimpleLogger; crashreporting_pipename::String)\n",
      "    @ VSCodeServer ~/.vscode/extensions/julialang.language-julia-1.6.24/scripts/packages/VSCodeServer/src/serve_notebook.jl:136\n",
      " [11] top-level scope\n",
      "    @ ~/.vscode/extensions/julialang.language-julia-1.6.24/scripts/notebook/notebook.jl:32\n",
      " [12] include(mod::Module, _path::String)\n",
      "    @ Base ./Base.jl:418\n",
      " [13] exec_options(opts::Base.JLOptions)\n",
      "    @ Base ./client.jl:292\n",
      " [14] _start()\n",
      "    @ Base ./client.jl:495"
     ]
    }
   ],
   "source": [
    "# Définir un nouveau type `ExtendedGraph`\n",
    "mutable struct ExtendedGraph{T} <: AbstractGraph{T}\n",
    "  name::String\n",
    "  nodes::Vector{Node{T}}\n",
    "  edges::Vector{Edge{T}}\n",
    "end\n",
    "\n",
    "# Constructeur pour ExtendedGraph\n",
    "ExtendedGraph(name::String, nodes::Vector{Node{T}}) where T = ExtendedGraph(name, nodes, Edge{T}[])\n",
    "\n",
    "# Fonction pour ajouter une arête à ExtendedGraph\n",
    "function add_edge!(graph::ExtendedGraph{T}, start_node::Node{T}, end_node::Node{T}, weight::U = nothing) where {T}\n",
    "  # Vérifier si les nœuds existent déjà dans le graphe\n",
    "  if start_node ∉ graph.nodes || end_node ∉ graph.nodes\n",
    "      throw(ArgumentError(\"One or both nodes are not part of the graph\"))\n",
    "  end\n",
    "\n",
    "  # Créer la nouvelle arête\n",
    "  new_edge = Edge(start_node, end_node, weight)\n",
    "  \n",
    "  # Vérifier si l'arête existe déjà\n",
    "  for edge in graph.edges\n",
    "      if (edge.start_node == start_node && edge.end_node == end_node) || \n",
    "         (edge.start_node == end_node && edge.end_node == start_node)\n",
    "          throw(ArgumentError(\"The edge already exists in the graph\"))\n",
    "      end\n",
    "  end\n",
    "\n",
    "  # Ajouter la nouvelle arête au graphe\n",
    "  push!(graph.edges, new_edge)\n",
    "end\n",
    "\n",
    "# Affichage de ExtendedGraph\n",
    "function show(graph::ExtendedGraph{T}) where {T}\n",
    "  println(\"Graph \", name(graph), \" has \", nb_nodes(graph), \" nodes and \", length(graph.edges), \" edges.\")\n",
    "  println(\"Nodes:\")\n",
    "  for node in nodes(graph)\n",
    "      show(node)\n",
    "  end\n",
    "  println(\"Edges:\")\n",
    "  for edge in graph.edges\n",
    "      show(edge)\n",
    "  end\n",
    "end\n"
   ]
  },
  {
   "cell_type": "code",
   "execution_count": 15,
   "metadata": {},
   "outputs": [
    {
     "ename": "UndefVarError",
     "evalue": "UndefVarError: U not defined",
     "output_type": "error",
     "traceback": [
      "UndefVarError: U not defined\n",
      "\n",
      "Stacktrace:\n",
      "  [1] ExtendedGraph(name::String, nodes::Vector{Node{Float64}})\n",
      "    @ Main ~/Desktop/PhD/Cours/A23/MTH6412B/Projet/Phase 1/Phase 1.ipynb:9\n",
      "  [2] top-level scope\n",
      "    @ ~/Desktop/PhD/Cours/A23/MTH6412B/Projet/Phase 1/Phase 1.ipynb:1\n",
      "  [3] eval\n",
      "    @ ./boot.jl:373 [inlined]\n",
      "  [4] include_string(mapexpr::typeof(REPL.softscope), mod::Module, code::String, filename::String)\n",
      "    @ Base ./loading.jl:1196\n",
      "  [5] #invokelatest#2\n",
      "    @ ./essentials.jl:716 [inlined]\n",
      "  [6] invokelatest\n",
      "    @ ./essentials.jl:714 [inlined]\n",
      "  [7] (::VSCodeServer.var\"#164#165\"{VSCodeServer.NotebookRunCellArguments, String})()\n",
      "    @ VSCodeServer ~/.vscode/extensions/julialang.language-julia-1.6.24/scripts/packages/VSCodeServer/src/serve_notebook.jl:19\n",
      "  [8] withpath(f::VSCodeServer.var\"#164#165\"{VSCodeServer.NotebookRunCellArguments, String}, path::String)\n",
      "    @ VSCodeServer ~/.vscode/extensions/julialang.language-julia-1.6.24/scripts/packages/VSCodeServer/src/repl.jl:184\n",
      "  [9] notebook_runcell_request(conn::VSCodeServer.JSONRPC.JSONRPCEndpoint{Base.PipeEndpoint, Base.PipeEndpoint}, params::VSCodeServer.NotebookRunCellArguments)\n",
      "    @ VSCodeServer ~/.vscode/extensions/julialang.language-julia-1.6.24/scripts/packages/VSCodeServer/src/serve_notebook.jl:13\n",
      " [10] dispatch_msg(x::VSCodeServer.JSONRPC.JSONRPCEndpoint{Base.PipeEndpoint, Base.PipeEndpoint}, dispatcher::VSCodeServer.JSONRPC.MsgDispatcher, msg::Dict{String, Any})\n",
      "    @ VSCodeServer.JSONRPC ~/.vscode/extensions/julialang.language-julia-1.6.24/scripts/packages/JSONRPC/src/typed.jl:67\n",
      " [11] serve_notebook(pipename::String, outputchannel_logger::Base.CoreLogging.SimpleLogger; crashreporting_pipename::String)\n",
      "    @ VSCodeServer ~/.vscode/extensions/julialang.language-julia-1.6.24/scripts/packages/VSCodeServer/src/serve_notebook.jl:136\n",
      " [12] top-level scope\n",
      "    @ ~/.vscode/extensions/julialang.language-julia-1.6.24/scripts/notebook/notebook.jl:32\n",
      " [13] include(mod::Module, _path::String)\n",
      "    @ Base ./Base.jl:418\n",
      " [14] exec_options(opts::Base.JLOptions)\n",
      "    @ Base ./client.jl:292\n",
      " [15] _start()\n",
      "    @ Base ./client.jl:495"
     ]
    }
   ],
   "source": [
    "ext_graph = ExtendedGraph(\"graph_test\", [Node(\"a\", 1.0), Node(\"b\", 2.4), Node(\"c\", 3.0)])"
   ]
  },
  {
   "cell_type": "code",
   "execution_count": 16,
   "metadata": {},
   "outputs": [
    {
     "data": {
      "text/plain": [
       "Vector{Node{Float64}} (alias for Array{Node{Float64}, 1})"
      ]
     },
     "metadata": {},
     "output_type": "display_data"
    }
   ],
   "source": [
    "typeof([Node(\"a\", 1.0), Node(\"b\", 2.4), Node(\"c\", 3.0)])"
   ]
  },
  {
   "cell_type": "code",
   "execution_count": null,
   "metadata": {},
   "outputs": [],
   "source": []
  }
 ],
 "metadata": {
  "kernelspec": {
   "display_name": "Julia 1.7.2",
   "language": "julia",
   "name": "julia-1.7"
  },
  "language_info": {
   "file_extension": ".jl",
   "mimetype": "application/julia",
   "name": "julia",
   "version": "1.7.2"
  },
  "orig_nbformat": 4
 },
 "nbformat": 4,
 "nbformat_minor": 2
}
