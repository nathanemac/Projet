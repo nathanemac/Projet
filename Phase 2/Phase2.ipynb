{
 "cells": [
  {
   "cell_type": "markdown",
   "metadata": {},
   "source": [
    "# MTH6412B - Projet voyageur de commerce \n",
    "## Phase 2\n",
    "#### Victor Darleguy - Nathan Allaire"
   ]
  },
  {
   "cell_type": "markdown",
   "metadata": {},
   "source": [
    "### Importation des résultats de la phase 1"
   ]
  },
  {
   "cell_type": "code",
   "execution_count": 1,
   "metadata": {},
   "outputs": [
    {
     "data": {
      "text/plain": [
       "build_graph"
      ]
     },
     "metadata": {},
     "output_type": "display_data"
    }
   ],
   "source": [
    "include(\"../Phase 1/node.jl\")\n",
    "include(\"../Phase 1/edge.jl\")\n",
    "include(\"../Phase 1/graph.jl\")\n",
    "include(\"../Phase 1/read_stsp.jl\")\n",
    "include(\"../Phase 1/main.jl\")"
   ]
  },
  {
   "cell_type": "markdown",
   "metadata": {},
   "source": [
    "# Question 1)"
   ]
  },
  {
   "cell_type": "markdown",
   "metadata": {},
   "source": [
    "### Choisir et implémenter une structure de données pour les composantes connexes d’un graphe "
   ]
  },
  {
   "cell_type": "code",
   "execution_count": 41,
   "metadata": {},
   "outputs": [],
   "source": [
    "import Base.isless, Base.==, Base.popfirst!"
   ]
  },
  {
   "cell_type": "code",
   "execution_count": 12,
   "metadata": {},
   "outputs": [
    {
     "data": {
      "text/plain": [
       "get_priority"
      ]
     },
     "metadata": {},
     "output_type": "display_data"
    }
   ],
   "source": [
    "\n",
    "# AbstractPriorityItem est une structure de données abstraite pour les éléments de file de priorité.\n",
    "\"\"\"\n",
    "    AbstractPriorityItem{T}\n",
    "\n",
    "Structure de base abstraite pour les éléments qui seront utilisés dans une file de priorité.\n",
    "`T` est le type de donnée encapsulé dans l'élément de priorité.\n",
    "\"\"\"\n",
    "abstract type AbstractPriorityItem{T} end\n",
    "\n",
    "# PriorityItem est une implémentation concrète d'un élément de file de priorité.\n",
    "\"\"\"\n",
    "    mutable struct PriorityItem{T} <: AbstractPriorityItem{T}\n",
    "\n",
    "Implémente un élément de priorité avec une `priorité` et des `données`.\n",
    "- `priority` est un `Number` indiquant la priorité de l'élément.\n",
    "- `data` est la donnée de type `T` stockée dans l'élément.\n",
    "\"\"\"\n",
    "mutable struct PriorityItem{T} <: AbstractPriorityItem{T}\n",
    "  priority::Number\n",
    "  data::T\n",
    "end\n",
    "\n",
    "# PriorityItem est le constructeur pour créer un nouvel élément de priorité.\n",
    "\"\"\"\n",
    "    PriorityItem(priority::Number, data::T)\n",
    "\n",
    "Constructeur pour `PriorityItem`. Prend en compte une `priorité` et des `données` pour créer un nouvel élément.\n",
    "La priorité est ajustée pour ne jamais être inférieure à zéro.\n",
    "\"\"\"\n",
    "function PriorityItem(priority::Number, data::T) where T\n",
    "  PriorityItem{T}(max(0, priority), data)\n",
    "end\n",
    "\n",
    "# priority retourne la priorité d'un PriorityItem.\n",
    "\"\"\"\n",
    "    priority(p::PriorityItem)\n",
    "\n",
    "Renvoie la priorité de l'élément de priorité `p`.\n",
    "\"\"\"\n",
    "priority(p::PriorityItem) = p.priority\n",
    "\n",
    "# priority! modifie la priorité d'un PriorityItem.\n",
    "\"\"\"\n",
    "    priority!(p::PriorityItem, priority::Number)\n",
    "\n",
    "Modifie la valeur de la priorité de l'élément `p` avec la nouvelle `priorité`.\n",
    "La nouvelle priorité est ajustée pour ne jamais être inférieure à zéro.\n",
    "\"\"\"\n",
    "function priority!(p::PriorityItem, priority::Number)\n",
    "  p.priority = max(0, priority)\n",
    "  p\n",
    "end\n",
    "\n",
    "# Redéfinition des opérateurs isless et == pour PriorityItem.\n",
    "isless(p::PriorityItem, q::PriorityItem) = priority(p) < priority(q)\n",
    "==(p::PriorityItem, q::PriorityItem) = priority(p) == priority(q)\n",
    "\n",
    "# AbstractQueue est une structure de données abstraite pour les files.\n",
    "\"\"\"\n",
    "    AbstractQueue{T}\n",
    "\n",
    "Structure de base abstraite pour les files qui seront utilisées pour gérer les éléments de priorité.\n",
    "`T` est le type spécifique des éléments de priorité utilisés dans la file.\n",
    "\"\"\"\n",
    "abstract type AbstractQueue{T} end\n",
    "\n",
    "# PriorityQueue est une implémentation concrète d'une file de priorité.\n",
    "\"\"\"\n",
    "    mutable struct PriorityQueue{T <: AbstractPriorityItem} <: AbstractQueue{T}\n",
    "\n",
    "Implémente une file de priorité qui utilise un `Vector` pour stocker les éléments de type `T`.\n",
    "\"\"\"\n",
    "mutable struct PriorityQueue{T <: AbstractPriorityItem} <: AbstractQueue{T}\n",
    "  items::Vector{T}\n",
    "end\n",
    "\n",
    "# PriorityQueue est le constructeur pour créer une nouvelle file de priorité.\n",
    "PriorityQueue{T}() where T = PriorityQueue(T[])\n",
    "\n",
    "# pop_lowest! retire et renvoie l'élément avec la plus faible priorité.\n",
    "\"\"\"\n",
    "    pop_lowest!(q::PriorityQueue)\n",
    "\n",
    "Retire et renvoie l'élément ayant la plus faible priorité de la file de priorité `q`.\n",
    "\"\"\"\n",
    "function pop_lowest!(q::PriorityQueue)\n",
    "  lowest = q.items[1]\n",
    "  for item in q.items[2:end]\n",
    "    if item < lowest\n",
    "      lowest = item\n",
    "    end\n",
    "  end\n",
    "  idx = findfirst(x -> x == lowest, q.items)\n",
    "  deleteat!(q.items, idx)\n",
    "  lowest\n",
    "end\n",
    "\n",
    "# update_priority! modifie la priorité d'un élément dans la file.\n",
    "\"\"\"\n",
    "    update_priority!(q::PriorityQueue, item_data, new_priority)\n",
    "\n",
    "Modifie la priorité d'un élément spécifique dans la file de priorité `q`.\n",
    "`item_data` est la donnée de l'élément à modifier.\n",
    "`new_priority` est la nouvelle priorité à attribuer à l'élément.\n",
    "\"\"\"\n",
    "function update_priority!(q::PriorityQueue, item_data, new_priority)\n",
    "  for pi in q.items\n",
    "    if pi.data == item_data\n",
    "      priority!(pi, new_priority)\n",
    "      return\n",
    "    end\n",
    "  end\n",
    "end\n",
    "\n",
    "# get_priority renvoie la priorité d'un élément spécifique ou Inf si non trouvé.\n",
    "\"\"\"\n",
    "    get_priority(q::PriorityQueue, item_data)\n",
    "\n",
    "Renvoie la priorité d'un élément spécifique dans la file de priorité `q`.\n",
    "`item_data` est la donnée de l'élément dont la priorité est demandée.\n",
    "Renvoie `Inf` si l'élément n'est pas trouvé dans la file.\n",
    "\"\"\"\n",
    "function get_priority(q::PriorityQueue, item_data)\n",
    "  for pi in q.items\n",
    "    if pi.data == item_data\n",
    "      return pi.priority\n",
    "    end\n",
    "  end\n",
    "  return Inf # Si l'élément n'est pas trouvé dans la file de priorité\n",
    "end\n"
   ]
  },
  {
   "cell_type": "markdown",
   "metadata": {},
   "source": [
    "### Tests unitaires de l'implémentation une structure de données pour les composantes connexes "
   ]
  },
  {
   "cell_type": "code",
   "execution_count": 59,
   "metadata": {},
   "outputs": [
    {
     "name": "stdout",
     "output_type": "stream",
     "text": [
      "\u001b[0m\u001b[1mTest Summary:                  | \u001b[22m\u001b[32m\u001b[1mPass  \u001b[22m\u001b[39m\u001b[36m\u001b[1mTotal  \u001b[22m\u001b[39m\u001b[0m\u001b[1mTime\u001b[22m\n",
      "PriorityItem Constructor Tests | \u001b[32m   2  \u001b[39m\u001b[36m    2  \u001b[39m\u001b[0m0.0s\n",
      "\u001b[0m\u001b[1mTest Summary:                | \u001b[22m\u001b[32m\u001b[1mPass  \u001b[22m\u001b[39m\u001b[36m\u001b[1mTotal  \u001b[22m\u001b[39m\u001b[0m\u001b[1mTime\u001b[22m\n",
      "PriorityItem Functions Tests | \u001b[32m   1  \u001b[39m\u001b[36m    1  \u001b[39m\u001b[0m0.0s\n",
      "\u001b[0m\u001b[1mTest Summary:              | \u001b[22m\u001b[32m\u001b[1mPass  \u001b[22m\u001b[39m\u001b[36m\u001b[1mTotal  \u001b[22m\u001b[39m\u001b[0m\u001b[1mTime\u001b[22m\n",
      "PriorityItem Mutator Tests | \u001b[32m   2  \u001b[39m\u001b[36m    2  \u001b[39m\u001b[0m0.0s\n",
      "\u001b[0m\u001b[1mTest Summary:                | \u001b[22m\u001b[32m\u001b[1mPass  \u001b[22m\u001b[39m\u001b[36m\u001b[1mTotal  \u001b[22m\u001b[39m\u001b[0m\u001b[1mTime\u001b[22m\n",
      "PriorityItem Operators Tests | \u001b[32m   3  \u001b[39m\u001b[36m    3  \u001b[39m\u001b[0m0.0s\n",
      "\u001b[0m\u001b[1mTest Summary:                      | \u001b[22m\u001b[32m\u001b[1mPass  \u001b[22m\u001b[39m\u001b[36m\u001b[1mTotal  \u001b[22m\u001b[39m\u001b[0m\u001b[1mTime\u001b[22m\n",
      "PriorityQueue Update Priority Test | \u001b[32m   2  \u001b[39m\u001b[36m    2  \u001b[39m\u001b[0m0.0s\n"
     ]
    },
    {
     "data": {
      "text/plain": [
       "Test.DefaultTestSet(\"PriorityQueue Update Priority Test\", Any[], 2, false, false, true, 1.699232507038e9, 1.699232507049e9, false)"
      ]
     },
     "metadata": {},
     "output_type": "display_data"
    }
   ],
   "source": [
    "# Test pour le constructeur PriorityItem\n",
    "@testset \"PriorityItem Constructor Tests\" begin\n",
    "    item = PriorityItem(-5, \"Data\")\n",
    "    @test item.priority == 0\n",
    "    @test item.data == \"Data\"\n",
    "end\n",
    "\n",
    "# Test pour la fonction priority\n",
    "@testset \"PriorityItem Functions Tests\" begin\n",
    "    item = PriorityItem(10, \"Data\")\n",
    "    @test priority(item) == 10\n",
    "end\n",
    "\n",
    "# Test pour la fonction priority!\n",
    "@testset \"PriorityItem Mutator Tests\" begin\n",
    "    item = PriorityItem(10, \"Data\")\n",
    "    priority!(item, 15)\n",
    "    @test item.priority == 15\n",
    "\n",
    "    priority!(item, -5)\n",
    "    @test item.priority == 0  # La priorité ne peut pas être négative\n",
    "end\n",
    "\n",
    "# Test pour les opérateurs isless et ==\n",
    "@testset \"PriorityItem Operators Tests\" begin\n",
    "    item1 = PriorityItem(10, \"Data1\")\n",
    "    item2 = PriorityItem(15, \"Data2\")\n",
    "    @test item1 < item2\n",
    "    @test item1 != item2\n",
    "    item2.priority = 10\n",
    "    @test item1 == item2\n",
    "end\n",
    "\n",
    "# Test pour update_priority!\n",
    "@testset \"PriorityQueue Update Priority Test\" begin\n",
    "    queue = PriorityQueue{PriorityItem{String}}()\n",
    "    item1 = PriorityItem(10, \"Item1\")\n",
    "    push!(queue.items, item1)\n",
    "    \n",
    "    update_priority!(queue, \"Item1\", 20)\n",
    "    \n",
    "    # Trouver l'élément mis à jour dans la queue\n",
    "    item1_updated_index = findfirst(pi -> pi.data == \"Item1\", queue.items)\n",
    "    item1_updated = queue.items[item1_updated_index]  # Utilisez l'index pour obtenir l'élément\n",
    "    \n",
    "    @test item1_updated !== nothing\n",
    "    @test item1_updated.priority == 20\n",
    "end\n"
   ]
  },
  {
   "cell_type": "code",
   "execution_count": 53,
   "metadata": {},
   "outputs": [
    {
     "data": {
      "text/plain": [
       "Edge{Vector{Float64}, Float64}(Node{Vector{Float64}}(\"4\", [1.0, 2.0], nothing, 0), Node{Vector{Float64}}(\"5\", [2.0, 3.9], nothing, 0), 3.0)"
      ]
     },
     "metadata": {},
     "output_type": "display_data"
    }
   ],
   "source": [
    "n1 = Node(\"1\", [1.0, 3.0], nothing)\n",
    "n2 = Node(\"2\", [2.0, 1.0])\n",
    "n3 = Node(\"3\", [1.0, 2.0], nothing)\n",
    "n4 = Node(\"4\", [1.0, 2.0])\n",
    "n5 = Node(\"5\", [2.0, 3.9])\n",
    "\n",
    "e1 = Edge(n1, n2, 5.6)\n",
    "e2 = Edge(n2, n3, 1.0)\n",
    "e3 = Edge(n1, n3, 2.0)\n",
    "e4 = Edge(n2, n4, 2.0)\n",
    "e5 = Edge(n1, n4, 0.5)\n",
    "e6 = Edge(n4, n5, 3.0)"
   ]
  },
  {
   "cell_type": "code",
   "execution_count": 54,
   "metadata": {},
   "outputs": [
    {
     "data": {
      "text/plain": [
       "ConnexGraph{Vector{Float64}}(\"graph test\", ConnexComponent{Vector{Float64}}[ConnexComponent{Vector{Float64}}(\"connex component 1\", Node{Vector{Float64}}[Node{Vector{Float64}}(\"1\", [1.0, 3.0], nothing, 0), Node{Vector{Float64}}(\"2\", [2.0, 1.0], nothing, 0)], Edge{Vector{Float64}}[], nothing), ConnexComponent{Vector{Float64}}(\"connex component 2\", Node{Vector{Float64}}[Node{Vector{Float64}}(\"3\", [1.0, 2.0], nothing, 0), Node{Vector{Float64}}(\"4\", [1.0, 2.0], nothing, 0)], Edge{Vector{Float64}}[], nothing)])"
      ]
     },
     "metadata": {},
     "output_type": "display_data"
    }
   ],
   "source": [
    "connexcomp1 = ConnexComponent(\"connex component 1\", [n1, n2])\n",
    "connexcomp2 = ConnexComponent(\"connex component 2\", [n3, n4])\n",
    "connexcomp3 = ConnexComponent(\"connex component 3\", [n5])\n",
    "\n",
    "graph_test = ConnexGraph(\"graph test\", [connexcomp1, connexcomp2])"
   ]
  },
  {
   "cell_type": "markdown",
   "metadata": {},
   "source": [
    "# Question 2)"
   ]
  },
  {
   "cell_type": "markdown",
   "metadata": {},
   "source": [
    "### a. Implémenter l’algorithme de Kruskal "
   ]
  },
  {
   "cell_type": "code",
   "execution_count": 69,
   "metadata": {},
   "outputs": [
    {
     "data": {
      "text/plain": [
       "Kruskal"
      ]
     },
     "metadata": {},
     "output_type": "display_data"
    }
   ],
   "source": [
    "# find_component recherche la composante connexe d'un noeud donné.\n",
    "\"\"\"\n",
    "    find_component(components, node)\n",
    "\n",
    "Recherche et renvoie la composante connexe à laquelle appartient le noeud `node`.\n",
    "- `components` est un tableau de composantes connexes.\n",
    "- `node` est le noeud dont la composante connexe est recherchée.\n",
    "\n",
    "Renvoie la composante connexe trouvée ou `nothing` si le noeud n'est pas trouvé.\n",
    "\"\"\"\n",
    "function find_component(components, node)\n",
    "    for component in components\n",
    "        if node in component.nodes\n",
    "            return component\n",
    "        end\n",
    "    end\n",
    "    return nothing\n",
    "end\n",
    "\n",
    "# merge_components! fusionne deux composantes connexes en une seule.\n",
    "\"\"\"\n",
    "    merge_components!(components, component1, component2)\n",
    "\n",
    "Fusionne deux composantes connexes `component1` et `component2` en une seule.\n",
    "- `components` est le tableau contenant toutes les composantes.\n",
    "- `component1` et `component2` sont les composantes à fusionner.\n",
    "\n",
    "Supprime `component2` du tableau `components` après fusion.\n",
    "\"\"\"\n",
    "function merge_components!(components, component1, component2)\n",
    "    for node in component2.nodes\n",
    "        push!(component1.nodes, node)\n",
    "    end\n",
    "    deleteat!(components, findfirst(x -> x == component2, components))\n",
    "end\n",
    "\n",
    "# Kruskal implémente l'algorithme de Kruskal pour trouver l'arbre couvrant minimal d'un graphe.\n",
    "\"\"\"\n",
    "    Kruskal(graph::ExtendedGraph)\n",
    "\n",
    "Implémente l'algorithme de Kruskal pour trouver l'arbre couvrant minimal d'un graphe.\n",
    "- `graph` est un graphe étendu avec des sommets et des arêtes.\n",
    "\n",
    "Crée un `ExtendedGraph` représentant l'arbre couvrant minimal trouvé.\n",
    "\"\"\"\n",
    "function Kruskal(graph::ExtendedGraph)\n",
    "    A0 = typeof(graph.edges[1])[]\n",
    "    A = graph.edges\n",
    "    S_connex = ConnexGraph(\"Graphe connexe\", graph)\n",
    "    S = graph.nodes\n",
    "\n",
    "    res = ExtendedGraph(\"res Kruskal\", S, A0)\n",
    "\n",
    "    for n in S\n",
    "        add_connex_component!(S_connex, ConnexComponent(\"\", [n]))\n",
    "    end\n",
    "\n",
    "    A_sorted = sort(A, by = e -> e.weight)\n",
    "    Components = S_connex.components\n",
    "\n",
    "    for a in A_sorted\n",
    "        start_component = find_component(Components, a.start_node)\n",
    "        end_component = find_component(Components, a.end_node)\n",
    "\n",
    "        if start_component !== end_component\n",
    "            push!(A0, a)\n",
    "            merge_components!(Components, start_component, end_component)\n",
    "        end\n",
    "    end\n",
    "    return res\n",
    "end\n"
   ]
  },
  {
   "cell_type": "code",
   "execution_count": 86,
   "metadata": {},
   "outputs": [
    {
     "name": "stdout",
     "output_type": "stream",
     "text": [
      "\u001b[0m\u001b[1mTest Summary:        | \u001b[22m\u001b[32m\u001b[1mPass  \u001b[22m\u001b[39m\u001b[36m\u001b[1mTotal  \u001b[22m\u001b[39m\u001b[0m\u001b[1mTime\u001b[22m\n",
      "Priority Queue Tests | \u001b[32m  11  \u001b[39m\u001b[36m   11  \u001b[39m\u001b[0m0.0s\n"
     ]
    },
    {
     "data": {
      "text/plain": [
       "Test.DefaultTestSet(\"Priority Queue Tests\", Any[Test.DefaultTestSet(\"Find Component Tests\", Any[], 6, false, false, true, 1.699233990658e9, 1.699233990658e9, false), Test.DefaultTestSet(\"Merge Components Tests\", Any[], 3, false, false, true, 1.699233990658e9, 1.699233990691e9, false), Test.DefaultTestSet(\"Kruskal Function Tests\", Any[], 2, false, false, true, 1.699233990691e9, 1.699233990691e9, false)], 0, false, false, true, 1.699233990658e9, 1.699233990691e9, false)"
      ]
     },
     "metadata": {},
     "output_type": "display_data"
    }
   ],
   "source": [
    "using Test\n",
    "\n",
    "# Créez des instances de Node basées sur les informations que vous avez fournies.\n",
    "n1 = Node(\"1\", [1.0, 3.0], nothing)\n",
    "n2 = Node(\"2\", [2.0, 1.0])\n",
    "n3 = Node(\"3\", [1.0, 2.0], nothing)\n",
    "n4 = Node(\"4\", [1.0, 2.0])\n",
    "n5 = Node(\"5\", [2.0, 3.9])\n",
    "\n",
    "# Supposons que vous avez défini vos arêtes quelque part aussi.\n",
    "e1 = Edge(n1, n2, 5.6)\n",
    "e2 = Edge(n2, n3, 1.0)\n",
    "e3 = Edge(n1, n3, 2.0)\n",
    "e4 = Edge(n2, n4, 2.0)\n",
    "e5 = Edge(n1, n4, 0.5)\n",
    "e6 = Edge(n4, n5, 3.0)\n",
    "\n",
    "# Définissez vos composants connexes en utilisant les instances de Node.\n",
    "connexcomp1 = ConnexComponent(\"connex component 1\", [n1, n2])\n",
    "connexcomp2 = ConnexComponent(\"connex component 2\", [n3, n4])\n",
    "connexcomp3 = ConnexComponent(\"connex component 3\", [n5])\n",
    "\n",
    "# Commencez vos tests unitaires.\n",
    "@testset \"Priority Queue Tests\" begin\n",
    "\n",
    "    # Test pour la fonction find_component\n",
    "    @testset \"Find Component Tests\" begin\n",
    "        components = [connexcomp1, connexcomp2, connexcomp3]\n",
    "\n",
    "        @test find_component(components, n1) === connexcomp1\n",
    "        @test find_component(components, n2) === connexcomp1\n",
    "        @test find_component(components, n3) === connexcomp2\n",
    "        @test find_component(components, n4) === connexcomp2\n",
    "        @test find_component(components, n5) === connexcomp3\n",
    "        # Testez avec un nœud qui n'existe pas dans les composants.\n",
    "        n6 = Node(\"6\", [3.0, 3.0])\n",
    "        @test find_component(components, n6) === nothing\n",
    "    end\n",
    "\n",
    "    # Test pour la fonction merge_components!\n",
    "    @testset \"Merge Components Tests\" begin\n",
    "        components = [connexcomp1, connexcomp2, connexcomp3]\n",
    "\n",
    "        merge_components!(components, connexcomp1, connexcomp2)\n",
    "\n",
    "        @test length(components) == 2\n",
    "        @test all(node in connexcomp1.nodes for node in [n1, n2, n3, n4])\n",
    "        @test !any(c -> c == connexcomp2, components)\n",
    "    end\n",
    "    # Test pour la fonction Kruskal\n",
    "    @testset \"Kruskal Function Tests\" begin\n",
    "        nodes_test = [n1, n2, n3, n4, n5]\n",
    "        edges_test = [e1, e2, e3, e4, e5, e6]\n",
    "        graph_test = ExtendedGraph(\"graph test\", nodes_test, edges_test)\n",
    "\n",
    "        result = Kruskal(graph_test)\n",
    "\n",
    "        @test typeof(result) == ExtendedGraph{Vector{Float64}, Float64}\n",
    "        # Ici, vous devez définir la longueur attendue de result.edges basée sur ce que l'algorithme de Kruskal devrait retourner pour graph_test.\n",
    "        @test length(result.edges) == 4\n",
    "        # Testez les arêtes spécifiques attendues dans le résultat si nécessaire.\n",
    "    end\n",
    "end\n"
   ]
  },
  {
   "cell_type": "markdown",
   "metadata": {},
   "source": [
    "### b. Tester sur l’exemple des notes de laboratoire "
   ]
  },
  {
   "cell_type": "code",
   "execution_count": 87,
   "metadata": {},
   "outputs": [
    {
     "data": {
      "text/plain": [
       "ExtendedGraph{Float64, Float64}(\"graphe du cours\", Node{Float64}[Node{Float64}(\"a\", 1.0, nothing, 0), Node{Float64}(\"b\", 1.0, nothing, 0), Node{Float64}(\"c\", 1.0, nothing, 0), Node{Float64}(\"d\", 1.0, nothing, 0), Node{Float64}(\"e\", 1.0, nothing, 0), Node{Float64}(\"f\", 1.0, nothing, 0), Node{Float64}(\"g\", 1.0, nothing, 0), Node{Float64}(\"h\", 1.0, nothing, 0), Node{Float64}(\"i\", 1.0, nothing, 0)], Edge{Float64, Float64}[Edge{Float64, Float64}(Node{Float64}(\"a\", 1.0, nothing, 0), Node{Float64}(\"b\", 1.0, nothing, 0), 4.0), Edge{Float64, Float64}(Node{Float64}(\"b\", 1.0, nothing, 0), Node{Float64}(\"c\", 1.0, nothing, 0), 8.0), Edge{Float64, Float64}(Node{Float64}(\"c\", 1.0, nothing, 0), Node{Float64}(\"d\", 1.0, nothing, 0), 7.0), Edge{Float64, Float64}(Node{Float64}(\"d\", 1.0, nothing, 0), Node{Float64}(\"e\", 1.0, nothing, 0), 9.0), Edge{Float64, Float64}(Node{Float64}(\"e\", 1.0, nothing, 0), Node{Float64}(\"f\", 1.0, nothing, 0), 10.0), Edge{Float64, Float64}(Node{Float64}(\"d\", 1.0, nothing, 0), Node{Float64}(\"f\", 1.0, nothing, 0), 14.0), Edge{Float64, Float64}(Node{Float64}(\"f\", 1.0, nothing, 0), Node{Float64}(\"c\", 1.0, nothing, 0), 4.0), Edge{Float64, Float64}(Node{Float64}(\"f\", 1.0, nothing, 0), Node{Float64}(\"g\", 1.0, nothing, 0), 2.0), Edge{Float64, Float64}(Node{Float64}(\"g\", 1.0, nothing, 0), Node{Float64}(\"i\", 1.0, nothing, 0), 6.0), Edge{Float64, Float64}(Node{Float64}(\"g\", 1.0, nothing, 0), Node{Float64}(\"h\", 1.0, nothing, 0), 1.0), Edge{Float64, Float64}(Node{Float64}(\"a\", 1.0, nothing, 0), Node{Float64}(\"h\", 1.0, nothing, 0), 8.0), Edge{Float64, Float64}(Node{Float64}(\"h\", 1.0, nothing, 0), Node{Float64}(\"i\", 1.0, nothing, 0), 7.0), Edge{Float64, Float64}(Node{Float64}(\"i\", 1.0, nothing, 0), Node{Float64}(\"c\", 1.0, nothing, 0), 2.0), Edge{Float64, Float64}(Node{Float64}(\"b\", 1.0, nothing, 0), Node{Float64}(\"h\", 1.0, nothing, 0), 11.0)])"
      ]
     },
     "metadata": {},
     "output_type": "display_data"
    }
   ],
   "source": [
    "a, b, c, d, e, f, g, h, i = Node(\"a\", 1.0), Node(\"b\", 1.0), Node(\"c\", 1.0), Node(\"d\", 1.0), Node(\"e\", 1.0), Node(\"f\", 1.0), Node(\"g\", 1.0), Node(\"h\", 1.0), Node(\"i\", 1.0)\n",
    "e1 = Edge(a, b, 4.)\n",
    "e2 = Edge(b, c, 8.)\n",
    "e3 = Edge(c, d, 7.)\n",
    "e4 = Edge(d, e, 9.)\n",
    "e5 = Edge(e, f, 10.)\n",
    "e6 = Edge(d, f, 14.)\n",
    "e7 = Edge(f, c, 4.)\n",
    "e8 = Edge(f, g, 2.)\n",
    "e9 = Edge(g, i, 6.)\n",
    "e10 = Edge(g, h, 1.)\n",
    "e11 = Edge(a, h, 8.)\n",
    "e12 = Edge(h, i, 7.)\n",
    "e13 = Edge(i, c, 2.)\n",
    "e14 = Edge(b, h, 11.)\n",
    "G_cours = ExtendedGraph(\"graphe du cours\", [a, b, c, d, e, f, g, h, i],[e1, e2, e3, e4, e5, e6, e7, e8, e9, e10, e11, e12, e13, e14])"
   ]
  },
  {
   "cell_type": "code",
   "execution_count": 88,
   "metadata": {},
   "outputs": [
    {
     "data": {
      "text/plain": [
       "ExtendedGraph{Float64, Float64}(\"graphe du cours\", Node{Float64}[Node{Float64}(\"a\", 1.0, nothing, 0), Node{Float64}(\"b\", 1.0, nothing, 0), Node{Float64}(\"c\", 1.0, nothing, 0), Node{Float64}(\"d\", 1.0, nothing, 0), Node{Float64}(\"e\", 1.0, nothing, 0), Node{Float64}(\"f\", 1.0, nothing, 0), Node{Float64}(\"g\", 1.0, nothing, 0), Node{Float64}(\"h\", 1.0, nothing, 0), Node{Float64}(\"i\", 1.0, nothing, 0)], Edge{Float64, Float64}[Edge{Float64, Float64}(Node{Float64}(\"a\", 1.0, nothing, 0), Node{Float64}(\"b\", 1.0, nothing, 0), 4.0), Edge{Float64, Float64}(Node{Float64}(\"b\", 1.0, nothing, 0), Node{Float64}(\"c\", 1.0, nothing, 0), 8.0), Edge{Float64, Float64}(Node{Float64}(\"c\", 1.0, nothing, 0), Node{Float64}(\"d\", 1.0, nothing, 0), 7.0), Edge{Float64, Float64}(Node{Float64}(\"d\", 1.0, nothing, 0), Node{Float64}(\"e\", 1.0, nothing, 0), 9.0), Edge{Float64, Float64}(Node{Float64}(\"e\", 1.0, nothing, 0), Node{Float64}(\"f\", 1.0, nothing, 0), 10.0), Edge{Float64, Float64}(Node{Float64}(\"d\", 1.0, nothing, 0), Node{Float64}(\"f\", 1.0, nothing, 0), 14.0), Edge{Float64, Float64}(Node{Float64}(\"f\", 1.0, nothing, 0), Node{Float64}(\"c\", 1.0, nothing, 0), 4.0), Edge{Float64, Float64}(Node{Float64}(\"f\", 1.0, nothing, 0), Node{Float64}(\"g\", 1.0, nothing, 0), 2.0), Edge{Float64, Float64}(Node{Float64}(\"g\", 1.0, nothing, 0), Node{Float64}(\"i\", 1.0, nothing, 0), 6.0), Edge{Float64, Float64}(Node{Float64}(\"g\", 1.0, nothing, 0), Node{Float64}(\"h\", 1.0, nothing, 0), 1.0), Edge{Float64, Float64}(Node{Float64}(\"a\", 1.0, nothing, 0), Node{Float64}(\"h\", 1.0, nothing, 0), 8.0), Edge{Float64, Float64}(Node{Float64}(\"h\", 1.0, nothing, 0), Node{Float64}(\"i\", 1.0, nothing, 0), 7.0), Edge{Float64, Float64}(Node{Float64}(\"i\", 1.0, nothing, 0), Node{Float64}(\"c\", 1.0, nothing, 0), 2.0), Edge{Float64, Float64}(Node{Float64}(\"b\", 1.0, nothing, 0), Node{Float64}(\"h\", 1.0, nothing, 0), 11.0)])"
      ]
     },
     "metadata": {},
     "output_type": "display_data"
    }
   ],
   "source": [
    "graph_cours_kruskal = (G_cours)"
   ]
  },
  {
   "cell_type": "markdown",
   "metadata": {},
   "source": [
    "### c. Tester l'implémentation sur diverses instances de TSP symétrique."
   ]
  },
  {
   "cell_type": "code",
   "execution_count": 89,
   "metadata": {},
   "outputs": [
    {
     "data": {
      "text/plain": [
       "ExtendedGraph{Vector{Float64}, Float64}(\"Graph_Test\", Node{Vector{Float64}}[Node{Vector{Float64}}(\"1\", [1150.0, 1760.0], nothing, 0), Node{Vector{Float64}}(\"2\", [630.0, 1660.0], nothing, 0), Node{Vector{Float64}}(\"3\", [40.0, 2090.0], nothing, 0), Node{Vector{Float64}}(\"4\", [750.0, 1100.0], nothing, 0), Node{Vector{Float64}}(\"5\", [750.0, 2030.0], nothing, 0), Node{Vector{Float64}}(\"6\", [1030.0, 2070.0], nothing, 0), Node{Vector{Float64}}(\"7\", [1650.0, 650.0], nothing, 0), Node{Vector{Float64}}(\"8\", [1490.0, 1630.0], nothing, 0), Node{Vector{Float64}}(\"9\", [790.0, 2260.0], nothing, 0), Node{Vector{Float64}}(\"10\", [710.0, 1310.0], nothing, 0)  …  Node{Vector{Float64}}(\"20\", [590.0, 1390.0], nothing, 0), Node{Vector{Float64}}(\"21\", [830.0, 1770.0], nothing, 0), Node{Vector{Float64}}(\"22\", [490.0, 500.0], nothing, 0), Node{Vector{Float64}}(\"23\", [1840.0, 1240.0], nothing, 0), Node{Vector{Float64}}(\"24\", [1260.0, 1500.0], nothing, 0), Node{Vector{Float64}}(\"25\", [1280.0, 790.0], nothing, 0), Node{Vector{Float64}}(\"26\", [490.0, 2130.0], nothing, 0), Node{Vector{Float64}}(\"27\", [1460.0, 1420.0], nothing, 0), Node{Vector{Float64}}(\"28\", [1260.0, 1910.0], nothing, 0), Node{Vector{Float64}}(\"29\", [360.0, 1980.0], nothing, 0)], Edge{Vector{Float64}, Float64}[Edge{Vector{Float64}, Float64}(Node{Vector{Float64}}(\"1\", [1150.0, 1760.0], nothing, 0), Node{Vector{Float64}}(\"1\", [1150.0, 1760.0], nothing, 0), 0.0), Edge{Vector{Float64}, Float64}(Node{Vector{Float64}}(\"1\", [1150.0, 1760.0], nothing, 0), Node{Vector{Float64}}(\"2\", [630.0, 1660.0], nothing, 0), 107.0), Edge{Vector{Float64}, Float64}(Node{Vector{Float64}}(\"1\", [1150.0, 1760.0], nothing, 0), Node{Vector{Float64}}(\"3\", [40.0, 2090.0], nothing, 0), 241.0), Edge{Vector{Float64}, Float64}(Node{Vector{Float64}}(\"1\", [1150.0, 1760.0], nothing, 0), Node{Vector{Float64}}(\"4\", [750.0, 1100.0], nothing, 0), 190.0), Edge{Vector{Float64}, Float64}(Node{Vector{Float64}}(\"1\", [1150.0, 1760.0], nothing, 0), Node{Vector{Float64}}(\"5\", [750.0, 2030.0], nothing, 0), 124.0), Edge{Vector{Float64}, Float64}(Node{Vector{Float64}}(\"1\", [1150.0, 1760.0], nothing, 0), Node{Vector{Float64}}(\"6\", [1030.0, 2070.0], nothing, 0), 80.0), Edge{Vector{Float64}, Float64}(Node{Vector{Float64}}(\"1\", [1150.0, 1760.0], nothing, 0), Node{Vector{Float64}}(\"7\", [1650.0, 650.0], nothing, 0), 316.0), Edge{Vector{Float64}, Float64}(Node{Vector{Float64}}(\"1\", [1150.0, 1760.0], nothing, 0), Node{Vector{Float64}}(\"8\", [1490.0, 1630.0], nothing, 0), 76.0), Edge{Vector{Float64}, Float64}(Node{Vector{Float64}}(\"1\", [1150.0, 1760.0], nothing, 0), Node{Vector{Float64}}(\"9\", [790.0, 2260.0], nothing, 0), 152.0), Edge{Vector{Float64}, Float64}(Node{Vector{Float64}}(\"1\", [1150.0, 1760.0], nothing, 0), Node{Vector{Float64}}(\"10\", [710.0, 1310.0], nothing, 0), 157.0)  …  Edge{Vector{Float64}, Float64}(Node{Vector{Float64}}(\"26\", [490.0, 2130.0], nothing, 0), Node{Vector{Float64}}(\"26\", [490.0, 2130.0], nothing, 0), 0.0), Edge{Vector{Float64}, Float64}(Node{Vector{Float64}}(\"26\", [490.0, 2130.0], nothing, 0), Node{Vector{Float64}}(\"27\", [1460.0, 1420.0], nothing, 0), 265.0), Edge{Vector{Float64}, Float64}(Node{Vector{Float64}}(\"26\", [490.0, 2130.0], nothing, 0), Node{Vector{Float64}}(\"28\", [1260.0, 1910.0], nothing, 0), 178.0), Edge{Vector{Float64}, Float64}(Node{Vector{Float64}}(\"26\", [490.0, 2130.0], nothing, 0), Node{Vector{Float64}}(\"29\", [360.0, 1980.0], nothing, 0), 39.0), Edge{Vector{Float64}, Float64}(Node{Vector{Float64}}(\"27\", [1460.0, 1420.0], nothing, 0), Node{Vector{Float64}}(\"27\", [1460.0, 1420.0], nothing, 0), 0.0), Edge{Vector{Float64}, Float64}(Node{Vector{Float64}}(\"27\", [1460.0, 1420.0], nothing, 0), Node{Vector{Float64}}(\"28\", [1260.0, 1910.0], nothing, 0), 124.0), Edge{Vector{Float64}, Float64}(Node{Vector{Float64}}(\"27\", [1460.0, 1420.0], nothing, 0), Node{Vector{Float64}}(\"29\", [360.0, 1980.0], nothing, 0), 263.0), Edge{Vector{Float64}, Float64}(Node{Vector{Float64}}(\"28\", [1260.0, 1910.0], nothing, 0), Node{Vector{Float64}}(\"28\", [1260.0, 1910.0], nothing, 0), 0.0), Edge{Vector{Float64}, Float64}(Node{Vector{Float64}}(\"28\", [1260.0, 1910.0], nothing, 0), Node{Vector{Float64}}(\"29\", [360.0, 1980.0], nothing, 0), 199.0), Edge{Vector{Float64}, Float64}(Node{Vector{Float64}}(\"29\", [360.0, 1980.0], nothing, 0), Node{Vector{Float64}}(\"29\", [360.0, 1980.0], nothing, 0), 0.0)])"
      ]
     },
     "metadata": {},
     "output_type": "display_data"
    }
   ],
   "source": [
    "graph = build_graph(\"../Phase 1/instances/stsp/bays29.tsp\", \"Graph_Test\")"
   ]
  },
  {
   "cell_type": "code",
   "execution_count": 90,
   "metadata": {},
   "outputs": [
    {
     "data": {
      "text/plain": [
       "ExtendedGraph{Vector{Float64}, Float64}(\"res Kruskal\", Node{Vector{Float64}}[Node{Vector{Float64}}(\"1\", [1150.0, 1760.0], nothing, 0), Node{Vector{Float64}}(\"2\", [630.0, 1660.0], nothing, 0), Node{Vector{Float64}}(\"3\", [40.0, 2090.0], nothing, 0), Node{Vector{Float64}}(\"4\", [750.0, 1100.0], nothing, 0), Node{Vector{Float64}}(\"5\", [750.0, 2030.0], nothing, 0), Node{Vector{Float64}}(\"6\", [1030.0, 2070.0], nothing, 0), Node{Vector{Float64}}(\"7\", [1650.0, 650.0], nothing, 0), Node{Vector{Float64}}(\"8\", [1490.0, 1630.0], nothing, 0), Node{Vector{Float64}}(\"9\", [790.0, 2260.0], nothing, 0), Node{Vector{Float64}}(\"10\", [710.0, 1310.0], nothing, 0)  …  Node{Vector{Float64}}(\"20\", [590.0, 1390.0], nothing, 0), Node{Vector{Float64}}(\"21\", [830.0, 1770.0], nothing, 0), Node{Vector{Float64}}(\"22\", [490.0, 500.0], nothing, 0), Node{Vector{Float64}}(\"23\", [1840.0, 1240.0], nothing, 0), Node{Vector{Float64}}(\"24\", [1260.0, 1500.0], nothing, 0), Node{Vector{Float64}}(\"25\", [1280.0, 790.0], nothing, 0), Node{Vector{Float64}}(\"26\", [490.0, 2130.0], nothing, 0), Node{Vector{Float64}}(\"27\", [1460.0, 1420.0], nothing, 0), Node{Vector{Float64}}(\"28\", [1260.0, 1910.0], nothing, 0), Node{Vector{Float64}}(\"29\", [360.0, 1980.0], nothing, 0)], Edge{Vector{Float64}, Float64}[Edge{Vector{Float64}, Float64}(Node{Vector{Float64}}(\"10\", [710.0, 1310.0], nothing, 0), Node{Vector{Float64}}(\"20\", [590.0, 1390.0], nothing, 0), 28.0), Edge{Vector{Float64}, Float64}(Node{Vector{Float64}}(\"14\", [510.0, 700.0], nothing, 0), Node{Vector{Float64}}(\"18\", [460.0, 860.0], nothing, 0), 35.0), Edge{Vector{Float64}, Float64}(Node{Vector{Float64}}(\"4\", [750.0, 1100.0], nothing, 0), Node{Vector{Float64}}(\"15\", [750.0, 900.0], nothing, 0), 38.0), Edge{Vector{Float64}, Float64}(Node{Vector{Float64}}(\"26\", [490.0, 2130.0], nothing, 0), Node{Vector{Float64}}(\"29\", [360.0, 1980.0], nothing, 0), 39.0), Edge{Vector{Float64}, Float64}(Node{Vector{Float64}}(\"24\", [1260.0, 1500.0], nothing, 0), Node{Vector{Float64}}(\"27\", [1460.0, 1420.0], nothing, 0), 41.0), Edge{Vector{Float64}, Float64}(Node{Vector{Float64}}(\"2\", [630.0, 1660.0], nothing, 0), Node{Vector{Float64}}(\"21\", [830.0, 1770.0], nothing, 0), 42.0), Edge{Vector{Float64}, Float64}(Node{Vector{Float64}}(\"4\", [750.0, 1100.0], nothing, 0), Node{Vector{Float64}}(\"10\", [710.0, 1310.0], nothing, 0), 42.0), Edge{Vector{Float64}, Float64}(Node{Vector{Float64}}(\"8\", [1490.0, 1630.0], nothing, 0), Node{Vector{Float64}}(\"27\", [1460.0, 1420.0], nothing, 0), 43.0), Edge{Vector{Float64}, Float64}(Node{Vector{Float64}}(\"14\", [510.0, 700.0], nothing, 0), Node{Vector{Float64}}(\"22\", [490.0, 500.0], nothing, 0), 44.0), Edge{Vector{Float64}, Float64}(Node{Vector{Float64}}(\"1\", [1150.0, 1760.0], nothing, 0), Node{Vector{Float64}}(\"28\", [1260.0, 1910.0], nothing, 0), 45.0)  …  Edge{Vector{Float64}, Float64}(Node{Vector{Float64}}(\"6\", [1030.0, 2070.0], nothing, 0), Node{Vector{Float64}}(\"28\", [1260.0, 1910.0], nothing, 0), 60.0), Edge{Vector{Float64}, Float64}(Node{Vector{Float64}}(\"5\", [750.0, 2030.0], nothing, 0), Node{Vector{Float64}}(\"6\", [1030.0, 2070.0], nothing, 0), 61.0), Edge{Vector{Float64}, Float64}(Node{Vector{Float64}}(\"1\", [1150.0, 1760.0], nothing, 0), Node{Vector{Float64}}(\"21\", [830.0, 1770.0], nothing, 0), 65.0), Edge{Vector{Float64}, Float64}(Node{Vector{Float64}}(\"16\", [1280.0, 1200.0], nothing, 0), Node{Vector{Float64}}(\"19\", [1040.0, 950.0], nothing, 0), 66.0), Edge{Vector{Float64}, Float64}(Node{Vector{Float64}}(\"1\", [1150.0, 1760.0], nothing, 0), Node{Vector{Float64}}(\"24\", [1260.0, 1500.0], nothing, 0), 67.0), Edge{Vector{Float64}, Float64}(Node{Vector{Float64}}(\"19\", [1040.0, 950.0], nothing, 0), Node{Vector{Float64}}(\"25\", [1280.0, 790.0], nothing, 0), 69.0), Edge{Vector{Float64}, Float64}(Node{Vector{Float64}}(\"3\", [40.0, 2090.0], nothing, 0), Node{Vector{Float64}}(\"29\", [360.0, 1980.0], nothing, 0), 77.0), Edge{Vector{Float64}, Float64}(Node{Vector{Float64}}(\"11\", [840.0, 550.0], nothing, 0), Node{Vector{Float64}}(\"15\", [750.0, 900.0], nothing, 0), 79.0), Edge{Vector{Float64}, Float64}(Node{Vector{Float64}}(\"23\", [1840.0, 1240.0], nothing, 0), Node{Vector{Float64}}(\"27\", [1460.0, 1420.0], nothing, 0), 80.0), Edge{Vector{Float64}, Float64}(Node{Vector{Float64}}(\"7\", [1650.0, 650.0], nothing, 0), Node{Vector{Float64}}(\"25\", [1280.0, 790.0], nothing, 0), 95.0)])"
      ]
     },
     "metadata": {},
     "output_type": "display_data"
    }
   ],
   "source": [
    "graph_kruskal = Kruskal(graph)"
   ]
  },
  {
   "cell_type": "markdown",
   "metadata": {},
   "source": [
    "# Question 3"
   ]
  },
  {
   "cell_type": "markdown",
   "metadata": {},
   "source": [
    "### a. Implémenter les deux heuristiques d’accélération"
   ]
  },
  {
   "cell_type": "code",
   "execution_count": 93,
   "metadata": {},
   "outputs": [
    {
     "data": {
      "text/plain": [
       "union_all!"
      ]
     },
     "metadata": {},
     "output_type": "display_data"
    }
   ],
   "source": [
    "\"\"\"\n",
    "    find_root!(CC::ConnexComponent)\n",
    "\n",
    "Trouve la racine de la composante connexe `CC`. Si la racine est déjà déterminée,\n",
    "la fonction la retourne simplement. Sinon, elle la détermine en cherchant le premier\n",
    "nœud sans parent et en le définissant comme racine. Ensuite, elle fait pointer tous\n",
    "les nœuds de la composante directement vers la racine.\n",
    "\n",
    "### Arguments\n",
    "- `CC` : une composante connexe de type `ConnexComponent`.\n",
    "\n",
    "### Retourne\n",
    "La racine de la composante connexe.\n",
    "\n",
    "### Modification en place\n",
    "Les nœuds de la composante connexe sont modifiés pour pointer vers la racine trouvée.\n",
    "\"\"\"\n",
    "function find_root!(CC::ConnexComponent)\n",
    "\n",
    "  # Renvoie la racine de la composante si elle n'est pas déjà déterminée\n",
    "  if CC.root !== nothing\n",
    "    return CC.root\n",
    "  end\n",
    "\n",
    "  root = CC.nodes[1]\n",
    "  for node in CC.nodes\n",
    "    # On s'arrête dès que l'on trouve un noeud sans parent\n",
    "    if node.parent === nothing\n",
    "      root = node\n",
    "      root.rank += 1\n",
    "      CC.root = root\n",
    "      break\n",
    "    end\n",
    "  end\n",
    "  \n",
    "  # On fait pointer les nœuds directement vers la racine.\n",
    "  for node in CC.nodes\n",
    "    if node === root\n",
    "      continue\n",
    "    else\n",
    "      node.parent = root\n",
    "    end\n",
    "  end\n",
    "  root\n",
    "end\n",
    "\n",
    "\n",
    "\"\"\"\n",
    "    union_roots!(root1::AbstractNode, root2::AbstractNode)\n",
    "\n",
    "Lier deux racines d'arbres en union-find. La racine de rang inférieur est liée\n",
    "à la racine de rang supérieur. Si les rangs sont égaux, une des racines est liée\n",
    "à l'autre et son rang est augmenté de 1.\n",
    "\n",
    "### Arguments\n",
    "- `root1` : le premier noeud racine.\n",
    "- `root2` : le second noeud racine.\n",
    "\n",
    "### Modification en place\n",
    "Les parents et les rangs des racines sont potentiellement modifiés pour refléter l'union.\n",
    "\"\"\"\n",
    "function union_roots!(root1::AbstractNode, root2::AbstractNode)\n",
    "\n",
    "  # Lie la racine de rang inférieur à la racine de rang supérieur\n",
    "  if root1.rank > root2.rank\n",
    "      root2.parent = root1\n",
    "  elseif root1.rank < root2.rank\n",
    "      root1.parent = root2\n",
    "  else\n",
    "      # Si les deux racines ont le même rang, lie l'une à l'autre et augmentez le rang de la racine parent\n",
    "      root2.parent = root1\n",
    "      root1.rank += 1\n",
    "  end\n",
    "  return\n",
    "end\n",
    "\n",
    "\"\"\"\n",
    "    union_all!(CC1::ConnexComponent, CC2::ConnexComponent)\n",
    "\n",
    "Unir deux composantes connexes. Trouve les racines des deux composantes\n",
    "et les unit en utilisant `union_roots!`. Ensuite, les nœuds de la composante\n",
    "de rang inférieur sont ajoutés à ceux de la composante de rang supérieur.\n",
    "\n",
    "### Arguments\n",
    "- `CC1` : la première composante connexe.\n",
    "- `CC2` : la seconde composante connexe.\n",
    "\n",
    "### Retourne\n",
    "La liste des nœuds de la composante connexe qui a absorbé l'autre.\n",
    "\n",
    "### Modification en place\n",
    "Les nœuds de la composante connexe de rang inférieur sont déplacés vers celle de rang supérieur.\n",
    "\"\"\"\n",
    "function union_all!(CC1::ConnexComponent, CC2::ConnexComponent)\n",
    "  # Trouver les racines des deux composantes\n",
    "  root1 = find_root!(CC1)\n",
    "  root2 = find_root!(CC2)\n",
    "\n",
    "  # Si les racines sont déjà les mêmes, rien à faire\n",
    "  if root1 === root2\n",
    "      return\n",
    "  end\n",
    "\n",
    "  # Sinon, unir les deux racines\n",
    "  union_roots!(root1, root2)\n",
    "\n",
    "  # Ajoute les noeuds de la composante fille aux noeuds de la composante mère\n",
    "  if root1.rank > root2.rank\n",
    "    append!(CC1.nodes, CC2.nodes)\n",
    "    empty!(CC2.nodes)\n",
    "    return CC1.nodes\n",
    "  else \n",
    "    append!(CC2.nodes, CC1.nodes)\n",
    "    empty!(CC2.nodes)\n",
    "    return CC2.nodes\n",
    "  end\n",
    "end"
   ]
  },
  {
   "cell_type": "code",
   "execution_count": 97,
   "metadata": {},
   "outputs": [
    {
     "data": {
      "text/plain": [
       "25-element Vector{Node{Float64}}:\n",
       " Node{Float64}(\"1\", 0.5, nothing, 2)\n",
       " Node{Float64}(\"n2\", 0.7548754409989982, Node{Float64}(\"1\", 0.5, nothing, 2), 0)\n",
       " Node{Float64}(\"n3\", 0.4328993004178644, Node{Float64}(\"1\", 0.5, nothing, 2), 0)\n",
       " Node{Float64}(\"n4\", 0.38544787975499273, Node{Float64}(\"1\", 0.5, nothing, 2), 0)\n",
       " Node{Float64}(\"n5\", 0.08839706380358325, Node{Float64}(\"1\", 0.5, nothing, 2), 0)\n",
       " Node{Float64}(\"n6\", 0.0291639373217224, Node{Float64}(\"1\", 0.5, nothing, 2), 0)\n",
       " Node{Float64}(\"n7\", 0.031396322109478736, Node{Float64}(\"1\", 0.5, nothing, 2), 0)\n",
       " Node{Float64}(\"n8\", 0.56358670210271, Node{Float64}(\"1\", 0.5, nothing, 2), 0)\n",
       " Node{Float64}(\"n9\", 0.8994742346645724, Node{Float64}(\"1\", 0.5, nothing, 2), 0)\n",
       " Node{Float64}(\"n10\", 0.7131809852788638, Node{Float64}(\"1\", 0.5, nothing, 2), 0)\n",
       " ⋮\n",
       " Node{Float64}(\"n17\", 0.036277145699360136, Node{Float64}(\"11\", 0.8, Node{Float64}(\"1\", 0.5, nothing, 2), 1), 0)\n",
       " Node{Float64}(\"n18\", 0.0695763875876454, Node{Float64}(\"11\", 0.8, Node{Float64}(\"1\", 0.5, nothing, 2), 1), 0)\n",
       " Node{Float64}(\"n19\", 0.3129089660125868, Node{Float64}(\"11\", 0.8, Node{Float64}(\"1\", 0.5, nothing, 2), 1), 0)\n",
       " Node{Float64}(\"n20\", 0.10180921137517307, Node{Float64}(\"11\", 0.8, Node{Float64}(\"1\", 0.5, nothing, 2), 1), 0)\n",
       " Node{Float64}(\"21\", 1.5, Node{Float64}(\"1\", 0.5, nothing, 2), 1)\n",
       " Node{Float64}(\"n22\", 0.2185870889604392, Node{Float64}(\"21\", 1.5, Node{Float64}(\"1\", 0.5, nothing, 2), 1), 0)\n",
       " Node{Float64}(\"n23\", 0.9499713712880282, Node{Float64}(\"21\", 1.5, Node{Float64}(\"1\", 0.5, nothing, 2), 1), 0)\n",
       " Node{Float64}(\"n24\", 0.8633916791146886, Node{Float64}(\"21\", 1.5, Node{Float64}(\"1\", 0.5, nothing, 2), 1), 0)\n",
       " Node{Float64}(\"n25\", 0.48068612521270193, Node{Float64}(\"21\", 1.5, Node{Float64}(\"1\", 0.5, nothing, 2), 1), 0)"
      ]
     },
     "metadata": {},
     "output_type": "display_data"
    }
   ],
   "source": [
    "CC1 = ConnexComponent(\"cc1\", [Node(\"1\", 0.5)])\n",
    "for i = 2:10\n",
    "  push!(CC1.nodes, Node(\"n$i\", rand(1)[1]))\n",
    "end\n",
    "CC2 = ConnexComponent(\"cc2\", [Node(\"11\", 0.8)])\n",
    "for i = 2:10\n",
    "  push!(CC2.nodes, Node(\"n$(i+10)\", rand(1)[1]))\n",
    "end\n",
    "\n",
    "union_all!(CC1, CC2)\n",
    "\n",
    "CC3 = ConnexComponent(\"cc3\", [Node(\"21\", 1.5)])\n",
    "for i = 2:5\n",
    "  push!(CC3.nodes, Node(\"n$(i+20)\", rand(1)[1]))\n",
    "end\n",
    "\n",
    "union_all!(CC1, CC3)"
   ]
  },
  {
   "cell_type": "markdown",
   "metadata": {},
   "source": [
    "### b. Répondre à la question concernant le rang"
   ]
  },
  {
   "cell_type": "code",
   "execution_count": null,
   "metadata": {},
   "outputs": [],
   "source": []
  },
  {
   "cell_type": "markdown",
   "metadata": {},
   "source": [
    "# Question 4"
   ]
  },
  {
   "cell_type": "markdown",
   "metadata": {},
   "source": [
    "### a. Implémenter l’algorithme de Prim"
   ]
  },
  {
   "cell_type": "code",
   "execution_count": 94,
   "metadata": {},
   "outputs": [
    {
     "data": {
      "text/plain": [
       "Prim"
      ]
     },
     "metadata": {},
     "output_type": "display_data"
    }
   ],
   "source": [
    "\"\"\"\n",
    "    neighbours_node(n::AbstractNode, graph::ExtendedGraph)\n",
    "\n",
    "Retourne un ensemble d'arêtes du graph `graph` contenant le nœud `n`, triées par ordre croissant de leur poids. \n",
    "Cela permet de déterminer les voisins d'un nœud dans le cadre d'algorithmes graphiques.\n",
    "\n",
    "### Arguments\n",
    "- `n` : Le nœud pour lequel les voisins sont recherchés.\n",
    "- `graph` : Le graphe de type `ExtendedGraph` contenant le nœud `n`.\n",
    "\n",
    "### Retourne\n",
    "Un vecteur des arêtes voisines du nœud `n`, trié par ordre croissant de poids.\n",
    "\n",
    "### Exemples\n",
    "```julia\n",
    "neighbours = neighbours_node(monNode, monGraphe)\n",
    "\"\"\"\n",
    "function neighbours_node(n::AbstractNode, graph::ExtendedGraph)\n",
    "  E = graph.edges\n",
    "  neighbours = [] # vecteur qui contiendra les arêtes voisines\n",
    "\n",
    "  for e in E\n",
    "    if e.start_node == n || e.end_node == n # si n appartient à l'arête e\n",
    "      push!(neighbours, e)\n",
    "    end\n",
    "  end\n",
    "  return sort(neighbours, by=edge -> edge.weight)\n",
    "end\n",
    "\n",
    "\"\"\"\n",
    "    Prim(graph::ExtendedGraph; st_node::AbstractNode = graph.nodes[1])\n",
    "\n",
    "Implémente l'algorithme de Prim pour un graphe donné. Cet algorithme construit un arbre\n",
    "couvrant de poids minimum à partir d'un graphe pondéré. Le noeud de départ par défaut est le premier\n",
    "nœud du graphe, mais un noeud de départ différent peut être spécifié.\n",
    "\n",
    "### Arguments\n",
    "- `graph` : Le graphe sur lequel appliquer l'algorithme de Prim.\n",
    "- `st_node` : Le noeud de départ pour l'algorithme. Par défaut, c'est le premier nœud du graphe.\n",
    "\n",
    "### Retourne\n",
    "Le graphe résultant après application de l'algorithme de Prim, sous forme d'un `ExtendedGraph`.\n",
    "\n",
    "### Exemples\n",
    "```julia\n",
    "grapheResultant = Prim(monGraphe)\n",
    "grapheResultant = Prim(monGraphe, st_node=monNode)\n",
    "\"\"\"\n",
    "function Prim(graph::ExtendedGraph; st_node::AbstractNode=graph.nodes[1])\n",
    "\n",
    "  N = graph.nodes\n",
    "  E = graph.edges\n",
    "  # Initialisation du graphe résultant\n",
    "  graph_res = ExtendedGraph(\"res Prim\", N, typeof(E[1])[])\n",
    "\n",
    "\n",
    "  # On recherche st_node dans le graphe donné\n",
    "  idx = findfirst(x -> x == st_node, N)\n",
    "  if idx === nothing\n",
    "    @warn \"starting node not in graph\"\n",
    "    return\n",
    "  end\n",
    "\n",
    "  # Création de la file de priorité pour traiter les noeuds\n",
    "  q = PriorityQueue([PriorityItem(Inf, n) for n in N])\n",
    "  priority!(q.items[idx], 0)\n",
    "  visited = Set{AbstractNode}() # Set pour vérifier les noeuds visités\n",
    "\n",
    "  # Boucle principale :\n",
    "  while !isempty(q.items)\n",
    "    # On choisit le noeud avec la priorité la plus faible (l'arête la plus légère)\n",
    "    u = pop_lowest!(q)\n",
    "    push!(visited, u.data)\n",
    "\n",
    "    if u.data.parent !== nothing\n",
    "      # Trouver l'arête entre u et son parent et l'ajouter au graph_res\n",
    "      edge_idx = findfirst(e -> (e.start_node == u.data && e.end_node == u.data.parent) || (e.start_node == u.data.parent && e.end_node == u.data), E)\n",
    "      edge = E[edge_idx]\n",
    "      push!(graph_res.edges, edge)\n",
    "    end\n",
    "\n",
    "    neighbours = neighbours_node(u.data, graph)\n",
    "\n",
    "    for edge in neighbours\n",
    "      v = edge.start_node === u.data ? edge.end_node : edge.start_node\n",
    "      if !(v in visited) && edge.weight < get_priority(q, v)\n",
    "        v.parent = u.data\n",
    "        update_priority!(q, v, edge.weight)\n",
    "      end\n",
    "    end\n",
    "  end\n",
    "\n",
    "  return graph_res\n",
    "end"
   ]
  },
  {
   "cell_type": "markdown",
   "metadata": {},
   "source": [
    "### b. Le tester sur l’exemple des notes de cours "
   ]
  },
  {
   "cell_type": "code",
   "execution_count": 95,
   "metadata": {},
   "outputs": [
    {
     "data": {
      "text/plain": [
       "ExtendedGraph{Float64, Float64}(\"graphe du cours\", Node{Float64}[Node{Float64}(\"a\", 1.0, nothing, 0), Node{Float64}(\"b\", 1.0, nothing, 0), Node{Float64}(\"c\", 1.0, nothing, 0), Node{Float64}(\"d\", 1.0, nothing, 0), Node{Float64}(\"e\", 1.0, nothing, 0), Node{Float64}(\"f\", 1.0, nothing, 0), Node{Float64}(\"g\", 1.0, nothing, 0), Node{Float64}(\"h\", 1.0, nothing, 0), Node{Float64}(\"i\", 1.0, nothing, 0)], Edge{Float64, Float64}[Edge{Float64, Float64}(Node{Float64}(\"a\", 1.0, nothing, 0), Node{Float64}(\"b\", 1.0, nothing, 0), 4.0), Edge{Float64, Float64}(Node{Float64}(\"b\", 1.0, nothing, 0), Node{Float64}(\"c\", 1.0, nothing, 0), 8.0), Edge{Float64, Float64}(Node{Float64}(\"c\", 1.0, nothing, 0), Node{Float64}(\"d\", 1.0, nothing, 0), 7.0), Edge{Float64, Float64}(Node{Float64}(\"d\", 1.0, nothing, 0), Node{Float64}(\"e\", 1.0, nothing, 0), 9.0), Edge{Float64, Float64}(Node{Float64}(\"e\", 1.0, nothing, 0), Node{Float64}(\"f\", 1.0, nothing, 0), 10.0), Edge{Float64, Float64}(Node{Float64}(\"d\", 1.0, nothing, 0), Node{Float64}(\"f\", 1.0, nothing, 0), 14.0), Edge{Float64, Float64}(Node{Float64}(\"f\", 1.0, nothing, 0), Node{Float64}(\"c\", 1.0, nothing, 0), 4.0), Edge{Float64, Float64}(Node{Float64}(\"f\", 1.0, nothing, 0), Node{Float64}(\"g\", 1.0, nothing, 0), 2.0), Edge{Float64, Float64}(Node{Float64}(\"g\", 1.0, nothing, 0), Node{Float64}(\"i\", 1.0, nothing, 0), 6.0), Edge{Float64, Float64}(Node{Float64}(\"g\", 1.0, nothing, 0), Node{Float64}(\"h\", 1.0, nothing, 0), 1.0), Edge{Float64, Float64}(Node{Float64}(\"a\", 1.0, nothing, 0), Node{Float64}(\"h\", 1.0, nothing, 0), 8.0), Edge{Float64, Float64}(Node{Float64}(\"h\", 1.0, nothing, 0), Node{Float64}(\"i\", 1.0, nothing, 0), 7.0), Edge{Float64, Float64}(Node{Float64}(\"i\", 1.0, nothing, 0), Node{Float64}(\"c\", 1.0, nothing, 0), 2.0), Edge{Float64, Float64}(Node{Float64}(\"b\", 1.0, nothing, 0), Node{Float64}(\"h\", 1.0, nothing, 0), 11.0)])"
      ]
     },
     "metadata": {},
     "output_type": "display_data"
    }
   ],
   "source": [
    "a, b, c, d, e, f, g, h, i = Node(\"a\", 1.0), Node(\"b\", 1.0), Node(\"c\", 1.0), Node(\"d\", 1.0), Node(\"e\", 1.0), Node(\"f\", 1.0), Node(\"g\", 1.0), Node(\"h\", 1.0), Node(\"i\", 1.0)\n",
    "e1 = Edge(a, b, 4.)\n",
    "e2 = Edge(b, c, 8.)\n",
    "e3 = Edge(c, d, 7.)\n",
    "e4 = Edge(d, e, 9.)\n",
    "e5 = Edge(e, f, 10.)\n",
    "e6 = Edge(d, f, 14.)\n",
    "e7 = Edge(f, c, 4.)\n",
    "e8 = Edge(f, g, 2.)\n",
    "e9 = Edge(g, i, 6.)\n",
    "e10 = Edge(g, h, 1.)\n",
    "e11 = Edge(a, h, 8.)\n",
    "e12 = Edge(h, i, 7.)\n",
    "e13 = Edge(i, c, 2.)\n",
    "e14 = Edge(b, h, 11.)\n",
    "G_cours = ExtendedGraph(\"graphe du cours\", [a, b, c, d, e, f, g, h, i],[e1, e2, e3, e4, e5, e6, e7, e8, e9, e10, e11, e12, e13, e14])"
   ]
  },
  {
   "cell_type": "code",
   "execution_count": 96,
   "metadata": {},
   "outputs": [
    {
     "data": {
      "text/plain": [
       "ExtendedGraph{Float64, Float64}(\"res Prim\", Node{Float64}[Node{Float64}(\"a\", 1.0, nothing, 0), Node{Float64}(\"b\", 1.0, Node{Float64}(\"a\", 1.0, nothing, 0), 0), Node{Float64}(\"c\", 1.0, Node{Float64}(\"b\", 1.0, Node{Float64}(\"a\", 1.0, nothing, 0), 0), 0), Node{Float64}(\"d\", 1.0, Node{Float64}(\"c\", 1.0, Node{Float64}(\"b\", 1.0, Node{Float64}(\"a\", 1.0, nothing, 0), 0), 0), 0), Node{Float64}(\"e\", 1.0, Node{Float64}(\"d\", 1.0, Node{Float64}(\"c\", 1.0, Node{Float64}(\"b\", 1.0, Node{Float64}(\"a\", 1.0, nothing, 0), 0), 0), 0), 0), Node{Float64}(\"f\", 1.0, Node{Float64}(\"c\", 1.0, Node{Float64}(\"b\", 1.0, Node{Float64}(\"a\", 1.0, nothing, 0), 0), 0), 0), Node{Float64}(\"g\", 1.0, Node{Float64}(\"f\", 1.0, Node{Float64}(\"c\", 1.0, Node{Float64}(\"b\", 1.0, Node{Float64}(\"a\", 1.0, nothing, 0), 0), 0), 0), 0), Node{Float64}(\"h\", 1.0, Node{Float64}(\"g\", 1.0, Node{Float64}(\"f\", 1.0, Node{Float64}(\"c\", 1.0, Node{Float64}(\"b\", 1.0, Node{Float64}(\"a\", 1.0, nothing, 0), 0), 0), 0), 0), 0), Node{Float64}(\"i\", 1.0, Node{Float64}(\"c\", 1.0, Node{Float64}(\"b\", 1.0, Node{Float64}(\"a\", 1.0, nothing, 0), 0), 0), 0)], Edge{Float64, Float64}[Edge{Float64, Float64}(Node{Float64}(\"a\", 1.0, nothing, 0), Node{Float64}(\"b\", 1.0, Node{Float64}(\"a\", 1.0, nothing, 0), 0), 4.0), Edge{Float64, Float64}(Node{Float64}(\"b\", 1.0, Node{Float64}(\"a\", 1.0, nothing, 0), 0), Node{Float64}(\"c\", 1.0, Node{Float64}(\"b\", 1.0, Node{Float64}(\"a\", 1.0, nothing, 0), 0), 0), 8.0), Edge{Float64, Float64}(Node{Float64}(\"i\", 1.0, Node{Float64}(\"c\", 1.0, Node{Float64}(\"b\", 1.0, Node{Float64}(\"a\", 1.0, nothing, 0), 0), 0), 0), Node{Float64}(\"c\", 1.0, Node{Float64}(\"b\", 1.0, Node{Float64}(\"a\", 1.0, nothing, 0), 0), 0), 2.0), Edge{Float64, Float64}(Node{Float64}(\"f\", 1.0, Node{Float64}(\"c\", 1.0, Node{Float64}(\"b\", 1.0, Node{Float64}(\"a\", 1.0, nothing, 0), 0), 0), 0), Node{Float64}(\"c\", 1.0, Node{Float64}(\"b\", 1.0, Node{Float64}(\"a\", 1.0, nothing, 0), 0), 0), 4.0), Edge{Float64, Float64}(Node{Float64}(\"f\", 1.0, Node{Float64}(\"c\", 1.0, Node{Float64}(\"b\", 1.0, Node{Float64}(\"a\", 1.0, nothing, 0), 0), 0), 0), Node{Float64}(\"g\", 1.0, Node{Float64}(\"f\", 1.0, Node{Float64}(\"c\", 1.0, Node{Float64}(\"b\", 1.0, Node{Float64}(\"a\", 1.0, nothing, 0), 0), 0), 0), 0), 2.0), Edge{Float64, Float64}(Node{Float64}(\"g\", 1.0, Node{Float64}(\"f\", 1.0, Node{Float64}(\"c\", 1.0, Node{Float64}(\"b\", 1.0, Node{Float64}(\"a\", 1.0, nothing, 0), 0), 0), 0), 0), Node{Float64}(\"h\", 1.0, Node{Float64}(\"g\", 1.0, Node{Float64}(\"f\", 1.0, Node{Float64}(\"c\", 1.0, Node{Float64}(\"b\", 1.0, Node{Float64}(\"a\", 1.0, nothing, 0), 0), 0), 0), 0), 0), 1.0), Edge{Float64, Float64}(Node{Float64}(\"c\", 1.0, Node{Float64}(\"b\", 1.0, Node{Float64}(\"a\", 1.0, nothing, 0), 0), 0), Node{Float64}(\"d\", 1.0, Node{Float64}(\"c\", 1.0, Node{Float64}(\"b\", 1.0, Node{Float64}(\"a\", 1.0, nothing, 0), 0), 0), 0), 7.0), Edge{Float64, Float64}(Node{Float64}(\"d\", 1.0, Node{Float64}(\"c\", 1.0, Node{Float64}(\"b\", 1.0, Node{Float64}(\"a\", 1.0, nothing, 0), 0), 0), 0), Node{Float64}(\"e\", 1.0, Node{Float64}(\"d\", 1.0, Node{Float64}(\"c\", 1.0, Node{Float64}(\"b\", 1.0, Node{Float64}(\"a\", 1.0, nothing, 0), 0), 0), 0), 0), 9.0)])"
      ]
     },
     "metadata": {},
     "output_type": "display_data"
    }
   ],
   "source": [
    "graph_cours_prim = Prim(G_cours, st_node = a)"
   ]
  },
  {
   "cell_type": "markdown",
   "metadata": {},
   "source": [
    "# Question 6"
   ]
  },
  {
   "cell_type": "code",
   "execution_count": 101,
   "metadata": {},
   "outputs": [
    {
     "data": {
      "text/plain": [
       "ExtendedGraph{Vector{Float64}, Float64}(\"Graph_Test\", Node{Vector{Float64}}[Node{Vector{Float64}}(\"1\", [1150.0, 1760.0], nothing, 0), Node{Vector{Float64}}(\"2\", [630.0, 1660.0], nothing, 0), Node{Vector{Float64}}(\"3\", [40.0, 2090.0], nothing, 0), Node{Vector{Float64}}(\"4\", [750.0, 1100.0], nothing, 0), Node{Vector{Float64}}(\"5\", [750.0, 2030.0], nothing, 0), Node{Vector{Float64}}(\"6\", [1030.0, 2070.0], nothing, 0), Node{Vector{Float64}}(\"7\", [1650.0, 650.0], nothing, 0), Node{Vector{Float64}}(\"8\", [1490.0, 1630.0], nothing, 0), Node{Vector{Float64}}(\"9\", [790.0, 2260.0], nothing, 0), Node{Vector{Float64}}(\"10\", [710.0, 1310.0], nothing, 0)  …  Node{Vector{Float64}}(\"20\", [590.0, 1390.0], nothing, 0), Node{Vector{Float64}}(\"21\", [830.0, 1770.0], nothing, 0), Node{Vector{Float64}}(\"22\", [490.0, 500.0], nothing, 0), Node{Vector{Float64}}(\"23\", [1840.0, 1240.0], nothing, 0), Node{Vector{Float64}}(\"24\", [1260.0, 1500.0], nothing, 0), Node{Vector{Float64}}(\"25\", [1280.0, 790.0], nothing, 0), Node{Vector{Float64}}(\"26\", [490.0, 2130.0], nothing, 0), Node{Vector{Float64}}(\"27\", [1460.0, 1420.0], nothing, 0), Node{Vector{Float64}}(\"28\", [1260.0, 1910.0], nothing, 0), Node{Vector{Float64}}(\"29\", [360.0, 1980.0], nothing, 0)], Edge{Vector{Float64}, Float64}[Edge{Vector{Float64}, Float64}(Node{Vector{Float64}}(\"1\", [1150.0, 1760.0], nothing, 0), Node{Vector{Float64}}(\"1\", [1150.0, 1760.0], nothing, 0), 0.0), Edge{Vector{Float64}, Float64}(Node{Vector{Float64}}(\"1\", [1150.0, 1760.0], nothing, 0), Node{Vector{Float64}}(\"2\", [630.0, 1660.0], nothing, 0), 107.0), Edge{Vector{Float64}, Float64}(Node{Vector{Float64}}(\"1\", [1150.0, 1760.0], nothing, 0), Node{Vector{Float64}}(\"3\", [40.0, 2090.0], nothing, 0), 241.0), Edge{Vector{Float64}, Float64}(Node{Vector{Float64}}(\"1\", [1150.0, 1760.0], nothing, 0), Node{Vector{Float64}}(\"4\", [750.0, 1100.0], nothing, 0), 190.0), Edge{Vector{Float64}, Float64}(Node{Vector{Float64}}(\"1\", [1150.0, 1760.0], nothing, 0), Node{Vector{Float64}}(\"5\", [750.0, 2030.0], nothing, 0), 124.0), Edge{Vector{Float64}, Float64}(Node{Vector{Float64}}(\"1\", [1150.0, 1760.0], nothing, 0), Node{Vector{Float64}}(\"6\", [1030.0, 2070.0], nothing, 0), 80.0), Edge{Vector{Float64}, Float64}(Node{Vector{Float64}}(\"1\", [1150.0, 1760.0], nothing, 0), Node{Vector{Float64}}(\"7\", [1650.0, 650.0], nothing, 0), 316.0), Edge{Vector{Float64}, Float64}(Node{Vector{Float64}}(\"1\", [1150.0, 1760.0], nothing, 0), Node{Vector{Float64}}(\"8\", [1490.0, 1630.0], nothing, 0), 76.0), Edge{Vector{Float64}, Float64}(Node{Vector{Float64}}(\"1\", [1150.0, 1760.0], nothing, 0), Node{Vector{Float64}}(\"9\", [790.0, 2260.0], nothing, 0), 152.0), Edge{Vector{Float64}, Float64}(Node{Vector{Float64}}(\"1\", [1150.0, 1760.0], nothing, 0), Node{Vector{Float64}}(\"10\", [710.0, 1310.0], nothing, 0), 157.0)  …  Edge{Vector{Float64}, Float64}(Node{Vector{Float64}}(\"26\", [490.0, 2130.0], nothing, 0), Node{Vector{Float64}}(\"26\", [490.0, 2130.0], nothing, 0), 0.0), Edge{Vector{Float64}, Float64}(Node{Vector{Float64}}(\"26\", [490.0, 2130.0], nothing, 0), Node{Vector{Float64}}(\"27\", [1460.0, 1420.0], nothing, 0), 265.0), Edge{Vector{Float64}, Float64}(Node{Vector{Float64}}(\"26\", [490.0, 2130.0], nothing, 0), Node{Vector{Float64}}(\"28\", [1260.0, 1910.0], nothing, 0), 178.0), Edge{Vector{Float64}, Float64}(Node{Vector{Float64}}(\"26\", [490.0, 2130.0], nothing, 0), Node{Vector{Float64}}(\"29\", [360.0, 1980.0], nothing, 0), 39.0), Edge{Vector{Float64}, Float64}(Node{Vector{Float64}}(\"27\", [1460.0, 1420.0], nothing, 0), Node{Vector{Float64}}(\"27\", [1460.0, 1420.0], nothing, 0), 0.0), Edge{Vector{Float64}, Float64}(Node{Vector{Float64}}(\"27\", [1460.0, 1420.0], nothing, 0), Node{Vector{Float64}}(\"28\", [1260.0, 1910.0], nothing, 0), 124.0), Edge{Vector{Float64}, Float64}(Node{Vector{Float64}}(\"27\", [1460.0, 1420.0], nothing, 0), Node{Vector{Float64}}(\"29\", [360.0, 1980.0], nothing, 0), 263.0), Edge{Vector{Float64}, Float64}(Node{Vector{Float64}}(\"28\", [1260.0, 1910.0], nothing, 0), Node{Vector{Float64}}(\"28\", [1260.0, 1910.0], nothing, 0), 0.0), Edge{Vector{Float64}, Float64}(Node{Vector{Float64}}(\"28\", [1260.0, 1910.0], nothing, 0), Node{Vector{Float64}}(\"29\", [360.0, 1980.0], nothing, 0), 199.0), Edge{Vector{Float64}, Float64}(Node{Vector{Float64}}(\"29\", [360.0, 1980.0], nothing, 0), Node{Vector{Float64}}(\"29\", [360.0, 1980.0], nothing, 0), 0.0)])"
      ]
     },
     "metadata": {},
     "output_type": "display_data"
    }
   ],
   "source": [
    "graph = build_graph(\"../Phase 1/instances/stsp/bays29.tsp\", \"Graph_Test\")"
   ]
  },
  {
   "cell_type": "code",
   "execution_count": 102,
   "metadata": {},
   "outputs": [
    {
     "data": {
      "text/plain": [
       "ExtendedGraph{Vector{Float64}, Float64}(\"res Kruskal\", Node{Vector{Float64}}[Node{Vector{Float64}}(\"1\", [1150.0, 1760.0], nothing, 0), Node{Vector{Float64}}(\"2\", [630.0, 1660.0], nothing, 0), Node{Vector{Float64}}(\"3\", [40.0, 2090.0], nothing, 0), Node{Vector{Float64}}(\"4\", [750.0, 1100.0], nothing, 0), Node{Vector{Float64}}(\"5\", [750.0, 2030.0], nothing, 0), Node{Vector{Float64}}(\"6\", [1030.0, 2070.0], nothing, 0), Node{Vector{Float64}}(\"7\", [1650.0, 650.0], nothing, 0), Node{Vector{Float64}}(\"8\", [1490.0, 1630.0], nothing, 0), Node{Vector{Float64}}(\"9\", [790.0, 2260.0], nothing, 0), Node{Vector{Float64}}(\"10\", [710.0, 1310.0], nothing, 0)  …  Node{Vector{Float64}}(\"20\", [590.0, 1390.0], nothing, 0), Node{Vector{Float64}}(\"21\", [830.0, 1770.0], nothing, 0), Node{Vector{Float64}}(\"22\", [490.0, 500.0], nothing, 0), Node{Vector{Float64}}(\"23\", [1840.0, 1240.0], nothing, 0), Node{Vector{Float64}}(\"24\", [1260.0, 1500.0], nothing, 0), Node{Vector{Float64}}(\"25\", [1280.0, 790.0], nothing, 0), Node{Vector{Float64}}(\"26\", [490.0, 2130.0], nothing, 0), Node{Vector{Float64}}(\"27\", [1460.0, 1420.0], nothing, 0), Node{Vector{Float64}}(\"28\", [1260.0, 1910.0], nothing, 0), Node{Vector{Float64}}(\"29\", [360.0, 1980.0], nothing, 0)], Edge{Vector{Float64}, Float64}[Edge{Vector{Float64}, Float64}(Node{Vector{Float64}}(\"10\", [710.0, 1310.0], nothing, 0), Node{Vector{Float64}}(\"20\", [590.0, 1390.0], nothing, 0), 28.0), Edge{Vector{Float64}, Float64}(Node{Vector{Float64}}(\"14\", [510.0, 700.0], nothing, 0), Node{Vector{Float64}}(\"18\", [460.0, 860.0], nothing, 0), 35.0), Edge{Vector{Float64}, Float64}(Node{Vector{Float64}}(\"4\", [750.0, 1100.0], nothing, 0), Node{Vector{Float64}}(\"15\", [750.0, 900.0], nothing, 0), 38.0), Edge{Vector{Float64}, Float64}(Node{Vector{Float64}}(\"26\", [490.0, 2130.0], nothing, 0), Node{Vector{Float64}}(\"29\", [360.0, 1980.0], nothing, 0), 39.0), Edge{Vector{Float64}, Float64}(Node{Vector{Float64}}(\"24\", [1260.0, 1500.0], nothing, 0), Node{Vector{Float64}}(\"27\", [1460.0, 1420.0], nothing, 0), 41.0), Edge{Vector{Float64}, Float64}(Node{Vector{Float64}}(\"2\", [630.0, 1660.0], nothing, 0), Node{Vector{Float64}}(\"21\", [830.0, 1770.0], nothing, 0), 42.0), Edge{Vector{Float64}, Float64}(Node{Vector{Float64}}(\"4\", [750.0, 1100.0], nothing, 0), Node{Vector{Float64}}(\"10\", [710.0, 1310.0], nothing, 0), 42.0), Edge{Vector{Float64}, Float64}(Node{Vector{Float64}}(\"8\", [1490.0, 1630.0], nothing, 0), Node{Vector{Float64}}(\"27\", [1460.0, 1420.0], nothing, 0), 43.0), Edge{Vector{Float64}, Float64}(Node{Vector{Float64}}(\"14\", [510.0, 700.0], nothing, 0), Node{Vector{Float64}}(\"22\", [490.0, 500.0], nothing, 0), 44.0), Edge{Vector{Float64}, Float64}(Node{Vector{Float64}}(\"1\", [1150.0, 1760.0], nothing, 0), Node{Vector{Float64}}(\"28\", [1260.0, 1910.0], nothing, 0), 45.0)  …  Edge{Vector{Float64}, Float64}(Node{Vector{Float64}}(\"6\", [1030.0, 2070.0], nothing, 0), Node{Vector{Float64}}(\"28\", [1260.0, 1910.0], nothing, 0), 60.0), Edge{Vector{Float64}, Float64}(Node{Vector{Float64}}(\"5\", [750.0, 2030.0], nothing, 0), Node{Vector{Float64}}(\"6\", [1030.0, 2070.0], nothing, 0), 61.0), Edge{Vector{Float64}, Float64}(Node{Vector{Float64}}(\"1\", [1150.0, 1760.0], nothing, 0), Node{Vector{Float64}}(\"21\", [830.0, 1770.0], nothing, 0), 65.0), Edge{Vector{Float64}, Float64}(Node{Vector{Float64}}(\"16\", [1280.0, 1200.0], nothing, 0), Node{Vector{Float64}}(\"19\", [1040.0, 950.0], nothing, 0), 66.0), Edge{Vector{Float64}, Float64}(Node{Vector{Float64}}(\"1\", [1150.0, 1760.0], nothing, 0), Node{Vector{Float64}}(\"24\", [1260.0, 1500.0], nothing, 0), 67.0), Edge{Vector{Float64}, Float64}(Node{Vector{Float64}}(\"19\", [1040.0, 950.0], nothing, 0), Node{Vector{Float64}}(\"25\", [1280.0, 790.0], nothing, 0), 69.0), Edge{Vector{Float64}, Float64}(Node{Vector{Float64}}(\"3\", [40.0, 2090.0], nothing, 0), Node{Vector{Float64}}(\"29\", [360.0, 1980.0], nothing, 0), 77.0), Edge{Vector{Float64}, Float64}(Node{Vector{Float64}}(\"11\", [840.0, 550.0], nothing, 0), Node{Vector{Float64}}(\"15\", [750.0, 900.0], nothing, 0), 79.0), Edge{Vector{Float64}, Float64}(Node{Vector{Float64}}(\"23\", [1840.0, 1240.0], nothing, 0), Node{Vector{Float64}}(\"27\", [1460.0, 1420.0], nothing, 0), 80.0), Edge{Vector{Float64}, Float64}(Node{Vector{Float64}}(\"7\", [1650.0, 650.0], nothing, 0), Node{Vector{Float64}}(\"25\", [1280.0, 790.0], nothing, 0), 95.0)])"
      ]
     },
     "metadata": {},
     "output_type": "display_data"
    }
   ],
   "source": [
    "graph_kruskal = Kruskal(graph)"
   ]
  },
  {
   "cell_type": "code",
   "execution_count": 103,
   "metadata": {},
   "outputs": [
    {
     "ename": "MethodError",
     "evalue": "MethodError: no method matching Prim(::ExtendedGraph{Vector{Float64}, Float64}, ::Node{Vector{Float64}})\n\nClosest candidates are:\n  Prim(::ExtendedGraph; st_node)\n   @ Main c:\\Users\\victo\\OneDrive\\Documents\\Cours\\MTH6412B\\Projet\\Phase 2\\Phase2.ipynb:49\n",
     "output_type": "error",
     "traceback": [
      "MethodError: no method matching Prim(::ExtendedGraph{Vector{Float64}, Float64}, ::Node{Vector{Float64}})\n",
      "\n",
      "Closest candidates are:\n",
      "  Prim(::ExtendedGraph; st_node)\n",
      "   @ Main c:\\Users\\victo\\OneDrive\\Documents\\Cours\\MTH6412B\\Projet\\Phase 2\\Phase2.ipynb:49\n",
      "\n",
      "\n",
      "Stacktrace:\n",
      " [1] top-level scope\n",
      "   @ c:\\Users\\victo\\OneDrive\\Documents\\Cours\\MTH6412B\\Projet\\Phase 2\\Phase2.ipynb:1"
     ]
    }
   ],
   "source": [
    "graph_prim = Prim(graph, graph.nodes[1])"
   ]
  },
  {
   "cell_type": "code",
   "execution_count": null,
   "metadata": {},
   "outputs": [],
   "source": []
  }
 ],
 "metadata": {
  "kernelspec": {
   "display_name": "Julia 1.9.3",
   "language": "julia",
   "name": "julia-1.9"
  },
  "language_info": {
   "file_extension": ".jl",
   "mimetype": "application/julia",
   "name": "julia",
   "version": "1.9.3"
  }
 },
 "nbformat": 4,
 "nbformat_minor": 2
}
